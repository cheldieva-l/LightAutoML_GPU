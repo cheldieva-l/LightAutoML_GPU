{
 "cells": [
  {
   "cell_type": "code",
   "execution_count": 1,
   "id": "78930508",
   "metadata": {},
   "outputs": [],
   "source": [
    "import numpy as np\n",
    "import pandas as pd"
   ]
  },
  {
   "cell_type": "code",
   "execution_count": 2,
   "id": "bfd2caae",
   "metadata": {},
   "outputs": [
    {
     "name": "stdout",
     "output_type": "stream",
     "text": [
      "Level \"INFO2: 17\" already defined, skipping...\n",
      "Level \"INFO3: 13\" already defined, skipping...\n"
     ]
    }
   ],
   "source": [
    "from lightautoml_gpu.reader.gpu.cudf_reader import CudfReader\n",
    "from lightautoml_gpu.reader.base import PandasToPandasReader\n",
    "\n",
    "from lightautoml_gpu.transformers.base import SequentialTransformer\n",
    "\n",
    "from lightautoml_gpu.pipelines.utils import get_columns_by_role\n",
    "\n",
    "from lightautoml_gpu.transformers.gpu import numeric_gpu, categorical_gpu, datetime_gpu\n",
    "from lightautoml_gpu.transformers import numeric, categorical, datetime\n",
    "\n",
    "from lightautoml_gpu.tasks import Task\n",
    "from lightautoml_gpu.automl.presets.tabular_presets import TabularAutoML, TabularUtilizedAutoML\n",
    "\n",
    "import pandas as pd\n",
    "import time\n",
    "from sklearn.model_selection import train_test_split\n",
    "\n",
    "from dask.distributed import Client\n",
    "from dask_cuda import LocalCUDACluster\n",
    "import cudf"
   ]
  },
  {
   "cell_type": "code",
   "execution_count": null,
   "id": "e8daa935",
   "metadata": {},
   "outputs": [],
   "source": []
  },
  {
   "cell_type": "code",
   "execution_count": 3,
   "id": "4befdbcf",
   "metadata": {},
   "outputs": [
    {
     "name": "stderr",
     "output_type": "stream",
     "text": [
      "/tmp/ipykernel_8024/705777730.py:1: DtypeWarning: Columns (329,331,333,336,338,344,345,346,348,354,355,356,357,358,361,362,364,367,372,377,380,383,385,387,390,392,399,400,406,408,409,413,416,418,419,431,433,437,438,442,448,449,450,453,457,464,473,478,479,481,483,485,486,489,492,495,496,497,498,499,500,503,507,508,510,511,514,515,517,519,520,521,522,523,524,526,527,530,534,537,538,539,541,544,547,548,549,550,551,557,558,560,564,569,572,573,576,577,579,583,596,597,598,600,601,602,604,605,606,608,609,613,619,620,625,627,628,629,631,632,633,636,641,642,643,645,646,647,648,651,655,661,662,665,668,675,676,679,682,685,687,689,690,691,694,698,701,702,703,706,711,712,713,719,720,721,733,735,737,738,742,746,747,748,749,752,754,755,760,764,768,770,781,782,789,797,807,812,814,817,818,822,823,824,825,832,840,843,844,845,850,853,857,858,861,867,868,873,874,876,877,879,880,881,883,886,890,893,897,899,900,901,902,904,905,908,909,910,912,913,914,915,916,922,923,931,933,935,937,939,942,943,946,951,955,960,964,965,968,969,970,973,974,977,980,987,994,995,996,999,1000,1008,1014,1015,1016,1017,1020,1021,1023,1028,1031,1035,1036,1037,1039,1040,1043,1048,1051,1055,1058,1059,1072,1073,1074,1081,1090,1097,1098,1103,1104,1109,1112,1113,1114,1118,1120,1130,1134,1135,1139,1140,1147,1148,1149,1152,1154,1157,1158,1162,1163,1164,1166,1169,1174,1177,1180,1181,1182,1183,1185,1188,1189,1195,1197,1198,1200,1203,1208,1210,1212,1215,1217,1220,1222,1225,1229,1230,1233,1234,1241,1243,1246,1250,1251,1252,1254,1259,1262,1263,1265,1266,1269,1270,1273,1274,1276,1277,1279,1280,1282,1284,1285,1286,1289,1291,1292,1293,1294,1295,1301,1302,1304,1305,1306,1308,1309,1311,1313,1316,1318,1320,1322,1323,1325,1330,1335,1337,1340,1341,1343,1345,1350,1351,1352,1354,1357,1358,1359,1360,1361,1368,1369,1372,1377) have mixed types. Specify dtype option on import or set low_memory=False.\n",
      "  features = pd.read_csv('../../data/small_new/multilabel/train Data.csv')\n"
     ]
    }
   ],
   "source": [
    "features = pd.read_csv('../../data/small_new/multilabel/train Data.csv')\n",
    "labels = pd.read_csv('../../data/small_new/multilabel/train labels.csv')\n",
    "labels.drop(columns='id', inplace=True)\n",
    "data = pd.concat([features, labels], axis=1)\n",
    "data = data[['n_0000','n_0001','n_0002','n_0003',\n",
    "             'n_0004','n_0005','n_0006','n_0007',\n",
    "             'service_a', 'service_b', 'service_c', \n",
    "             'service_d', 'service_e', 'service_f',\n",
    "             'service_g', 'service_h', 'service_i',\n",
    "             'service_j', 'service_k', 'service_l',\n",
    "             'service_m', 'service_n']]\n",
    "\n",
    "tr_data, te_data = train_test_split(\n",
    "    data, \n",
    "    test_size=0.2,  \n",
    "    random_state=42\n",
    ")\n",
    "\n",
    "roles = {\n",
    "    \"target\": {'service_a', 'service_b', 'service_c',\n",
    "               'service_d', 'service_e', 'service_f',\n",
    "               'service_g', 'service_h', 'service_i',\n",
    "               'service_j', 'service_k', 'service_l',\n",
    "               'service_m', 'service_n'},\n",
    "    \"drop\" : ['id']\n",
    "}"
   ]
  },
  {
   "cell_type": "code",
   "execution_count": 4,
   "id": "e2f73a5f",
   "metadata": {},
   "outputs": [],
   "source": [
    "adv_roles = True"
   ]
  },
  {
   "cell_type": "markdown",
   "id": "c52c0d7c",
   "metadata": {},
   "source": [
    "## Imports (for potential use)"
   ]
  },
  {
   "cell_type": "code",
   "execution_count": 5,
   "id": "9a15c2c0",
   "metadata": {},
   "outputs": [],
   "source": [
    "# Imports from our package\n",
    "from lightautoml_gpu.automl.base import AutoML\n",
    "\n",
    "from lightautoml_gpu.automl.presets.gpu.tabular_gpu_presets import TabularAutoMLGPU, TabularUtilizedAutoMLGPU\n",
    "from lightautoml_gpu.tasks import Task\n",
    "\n",
    "from lightautoml_gpu.pipelines.features.gpu.lgb_pipeline_gpu import LGBSimpleFeaturesGPU, LGBAdvancedPipelineGPU\n",
    "from lightautoml_gpu.pipelines.features.gpu.linear_pipeline_gpu import LinearFeaturesGPU\n",
    "\n",
    "from lightautoml_gpu.pipelines.features.lgb_pipeline import LGBSimpleFeatures, LGBAdvancedPipeline\n",
    "from lightautoml_gpu.pipelines.features.linear_pipeline import LinearFeatures\n",
    "\n",
    "\n",
    "from lightautoml_gpu.ml_algo.gpu.boost_cb_gpu import BoostCBGPU\n",
    "from lightautoml_gpu.ml_algo.gpu.boost_xgb_gpu import BoostXGB\n",
    "from lightautoml_gpu.ml_algo.gpu.linear_gpu import LinearLBFGSGPU\n",
    "\n",
    "from lightautoml_gpu.ml_algo.boost_cb import BoostCB\n",
    "from lightautoml_gpu.ml_algo.linear_sklearn import LinearLBFGS\n",
    "\n",
    "\n",
    "from lightautoml_gpu.pipelines.ml.base import MLPipeline\n",
    "from lightautoml_gpu.pipelines.selection.importance_based import ModelBasedImportanceEstimator, ImportanceCutoffSelector"
   ]
  },
  {
   "cell_type": "markdown",
   "id": "6b5da23f",
   "metadata": {},
   "source": [
    "## TabularAutoML"
   ]
  },
  {
   "cell_type": "code",
   "execution_count": 6,
   "id": "71ba7253",
   "metadata": {},
   "outputs": [
    {
     "name": "stdout",
     "output_type": "stream",
     "text": [
      "multilabel isn`t supported in lgb\n"
     ]
    }
   ],
   "source": [
    "task = Task('multilabel')"
   ]
  },
  {
   "cell_type": "code",
   "execution_count": 7,
   "id": "14624311",
   "metadata": {},
   "outputs": [],
   "source": [
    "automl = TabularAutoML(\n",
    "    task = task, \n",
    "    timeout = 3600,\n",
    "    cpu_limit = 4,\n",
    "    reader_params = {'n_jobs': 4, 'cv': 3, 'random_state': 42},\n",
    "    general_params = {'use_algos': [['linear_l2', 'cb']]}\n",
    ")"
   ]
  },
  {
   "cell_type": "code",
   "execution_count": 8,
   "id": "4b768794",
   "metadata": {
    "scrolled": true
   },
   "outputs": [
    {
     "name": "stdout",
     "output_type": "stream",
     "text": [
      "[12:13:50] Stdout logging level is INFO2.\n",
      "[12:13:50] Copying TaskTimer may affect the parent PipelineTimer, so copy will create new unlimited TaskTimer\n",
      "[12:13:50] Task: multilabel\n",
      "\n",
      "[12:13:50] Start automl preset with listed constraints:\n",
      "[12:13:50] - time: 3600.00 seconds\n",
      "[12:13:50] - CPU: 4 cores\n",
      "[12:13:50] - memory: 16 GB\n",
      "\n",
      "[12:13:50] \u001b[1mTrain data shape: (14644, 22)\u001b[0m\n",
      "\n"
     ]
    },
    {
     "name": "stderr",
     "output_type": "stream",
     "text": [
      "/home/rishat/miniconda3/envs/rapids-22.10/lib/python3.9/site-packages/lightautoml_gpu/reader/guess_roles.py:56: RuntimeWarning: invalid value encountered in float_scalars\n",
      "  gini_sum = a_c.sum() / a_s.sum() - (n + 1) / 2.0\n",
      "/home/rishat/miniconda3/envs/rapids-22.10/lib/python3.9/site-packages/lightautoml_gpu/reader/guess_roles.py:56: RuntimeWarning: invalid value encountered in float_scalars\n",
      "  gini_sum = a_c.sum() / a_s.sum() - (n + 1) / 2.0\n"
     ]
    },
    {
     "name": "stdout",
     "output_type": "stream",
     "text": [
      "[12:14:00] Feats was rejected during automatic roles guess: []\n",
      "[12:14:00] Layer \u001b[1m1\u001b[0m train process start. Time left 3590.21 secs\n",
      "[12:14:00] Start fitting \u001b[1mLvl_0_Pipe_0_Mod_0_LinearL2\u001b[0m ...\n",
      "[12:14:00] ===== Start working with \u001b[1mfold 0\u001b[0m for \u001b[1mLvl_0_Pipe_0_Mod_0_LinearL2\u001b[0m =====\n"
     ]
    },
    {
     "name": "stderr",
     "output_type": "stream",
     "text": [
      "/home/rishat/miniconda3/envs/rapids-22.10/lib/python3.9/site-packages/lightautoml_gpu/reader/guess_roles.py:56: RuntimeWarning: invalid value encountered in float_scalars\n",
      "  gini_sum = a_c.sum() / a_s.sum() - (n + 1) / 2.0\n",
      "/home/rishat/miniconda3/envs/rapids-22.10/lib/python3.9/site-packages/lightautoml_gpu/reader/guess_roles.py:56: RuntimeWarning: invalid value encountered in float_scalars\n",
      "  gini_sum = a_c.sum() / a_s.sum() - (n + 1) / 2.0\n",
      "/home/rishat/miniconda3/envs/rapids-22.10/lib/python3.9/site-packages/lightautoml_gpu/reader/guess_roles.py:56: RuntimeWarning: invalid value encountered in float_scalars\n",
      "  gini_sum = a_c.sum() / a_s.sum() - (n + 1) / 2.0\n",
      "/home/rishat/miniconda3/envs/rapids-22.10/lib/python3.9/site-packages/lightautoml_gpu/reader/guess_roles.py:56: RuntimeWarning: invalid value encountered in float_scalars\n",
      "  gini_sum = a_c.sum() / a_s.sum() - (n + 1) / 2.0\n"
     ]
    },
    {
     "name": "stdout",
     "output_type": "stream",
     "text": [
      "[12:14:03] ===== Start working with \u001b[1mfold 1\u001b[0m for \u001b[1mLvl_0_Pipe_0_Mod_0_LinearL2\u001b[0m =====\n",
      "[12:14:05] ===== Start working with \u001b[1mfold 2\u001b[0m for \u001b[1mLvl_0_Pipe_0_Mod_0_LinearL2\u001b[0m =====\n",
      "[12:14:08] Fitting \u001b[1mLvl_0_Pipe_0_Mod_0_LinearL2\u001b[0m finished. score = \u001b[1m-7.350185599077338\u001b[0m\n",
      "[12:14:08] \u001b[1mLvl_0_Pipe_0_Mod_0_LinearL2\u001b[0m fitting and predicting completed\n",
      "[12:14:08] Time left 3582.07 secs\n",
      "\n"
     ]
    },
    {
     "name": "stderr",
     "output_type": "stream",
     "text": [
      "/home/rishat/miniconda3/envs/rapids-22.10/lib/python3.9/site-packages/catboost/core.py:1419: FutureWarning: iteritems is deprecated and will be removed in a future version. Use .items instead.\n",
      "  self._init_pool(data, label, cat_features, text_features, embedding_features, embedding_features_data, pairs, weight,\n",
      "/home/rishat/miniconda3/envs/rapids-22.10/lib/python3.9/site-packages/catboost/core.py:1419: FutureWarning: iteritems is deprecated and will be removed in a future version. Use .items instead.\n",
      "  self._init_pool(data, label, cat_features, text_features, embedding_features, embedding_features_data, pairs, weight,\n"
     ]
    },
    {
     "name": "stdout",
     "output_type": "stream",
     "text": [
      "[12:14:16] \u001b[1mSelector_CatBoost\u001b[0m fitting and predicting completed\n",
      "[12:14:16] Start fitting \u001b[1mLvl_0_Pipe_1_Mod_0_CatBoost\u001b[0m ...\n",
      "[12:14:16] ===== Start working with \u001b[1mfold 0\u001b[0m for \u001b[1mLvl_0_Pipe_1_Mod_0_CatBoost\u001b[0m =====\n"
     ]
    },
    {
     "name": "stderr",
     "output_type": "stream",
     "text": [
      "/home/rishat/miniconda3/envs/rapids-22.10/lib/python3.9/site-packages/catboost/core.py:1419: FutureWarning: iteritems is deprecated and will be removed in a future version. Use .items instead.\n",
      "  self._init_pool(data, label, cat_features, text_features, embedding_features, embedding_features_data, pairs, weight,\n",
      "/home/rishat/miniconda3/envs/rapids-22.10/lib/python3.9/site-packages/catboost/core.py:1419: FutureWarning: iteritems is deprecated and will be removed in a future version. Use .items instead.\n",
      "  self._init_pool(data, label, cat_features, text_features, embedding_features, embedding_features_data, pairs, weight,\n"
     ]
    },
    {
     "name": "stdout",
     "output_type": "stream",
     "text": [
      "[12:14:25] ===== Start working with \u001b[1mfold 1\u001b[0m for \u001b[1mLvl_0_Pipe_1_Mod_0_CatBoost\u001b[0m =====\n"
     ]
    },
    {
     "name": "stderr",
     "output_type": "stream",
     "text": [
      "/home/rishat/miniconda3/envs/rapids-22.10/lib/python3.9/site-packages/catboost/core.py:1419: FutureWarning: iteritems is deprecated and will be removed in a future version. Use .items instead.\n",
      "  self._init_pool(data, label, cat_features, text_features, embedding_features, embedding_features_data, pairs, weight,\n",
      "/home/rishat/miniconda3/envs/rapids-22.10/lib/python3.9/site-packages/catboost/core.py:1419: FutureWarning: iteritems is deprecated and will be removed in a future version. Use .items instead.\n",
      "  self._init_pool(data, label, cat_features, text_features, embedding_features, embedding_features_data, pairs, weight,\n"
     ]
    },
    {
     "name": "stdout",
     "output_type": "stream",
     "text": [
      "[12:14:36] ===== Start working with \u001b[1mfold 2\u001b[0m for \u001b[1mLvl_0_Pipe_1_Mod_0_CatBoost\u001b[0m =====\n"
     ]
    },
    {
     "name": "stderr",
     "output_type": "stream",
     "text": [
      "/home/rishat/miniconda3/envs/rapids-22.10/lib/python3.9/site-packages/catboost/core.py:1419: FutureWarning: iteritems is deprecated and will be removed in a future version. Use .items instead.\n",
      "  self._init_pool(data, label, cat_features, text_features, embedding_features, embedding_features_data, pairs, weight,\n",
      "/home/rishat/miniconda3/envs/rapids-22.10/lib/python3.9/site-packages/catboost/core.py:1419: FutureWarning: iteritems is deprecated and will be removed in a future version. Use .items instead.\n",
      "  self._init_pool(data, label, cat_features, text_features, embedding_features, embedding_features_data, pairs, weight,\n"
     ]
    },
    {
     "name": "stdout",
     "output_type": "stream",
     "text": [
      "[12:14:46] Fitting \u001b[1mLvl_0_Pipe_1_Mod_0_CatBoost\u001b[0m finished. score = \u001b[1m-7.319639586394551\u001b[0m\n",
      "[12:14:46] \u001b[1mLvl_0_Pipe_1_Mod_0_CatBoost\u001b[0m fitting and predicting completed\n",
      "[12:14:46] Time left 3543.60 secs\n",
      "\n",
      "[12:14:46] \u001b[1mLayer 1 training completed.\u001b[0m\n",
      "\n",
      "[12:14:46] Blending: optimization starts with equal weights and score \u001b[1m-7.3139995871566095\u001b[0m\n",
      "[12:14:46] Blending: iteration \u001b[1m0\u001b[0m: score = \u001b[1m-7.313940630217811\u001b[0m, weights = \u001b[1m[0.5436461  0.45635393]\u001b[0m\n",
      "[12:14:47] Blending: iteration \u001b[1m1\u001b[0m: score = \u001b[1m-7.313940630217811\u001b[0m, weights = \u001b[1m[0.5436461  0.45635393]\u001b[0m\n",
      "[12:14:47] Blending: no score update. Terminated\n",
      "\n",
      "[12:14:47] \u001b[1mAutoml preset training completed in 56.78 seconds\u001b[0m\n",
      "\n",
      "[12:14:47] Model description:\n",
      "Final prediction for new objects (level 0) = \n",
      "\t 0.54365 * (3 averaged models Lvl_0_Pipe_0_Mod_0_LinearL2) +\n",
      "\t 0.45635 * (3 averaged models Lvl_0_Pipe_1_Mod_0_CatBoost) \n",
      "\n"
     ]
    }
   ],
   "source": [
    "oof_pred = automl.fit_predict(data, roles = roles, verbose = 2)"
   ]
  },
  {
   "cell_type": "code",
   "execution_count": 9,
   "id": "f432e058",
   "metadata": {},
   "outputs": [
    {
     "name": "stdout",
     "output_type": "stream",
     "text": [
      "multilabel isn`t supported in lgb\n",
      "[12:14:49] CatBoost uses as obj. MultiCrossEntropy.\n"
     ]
    }
   ],
   "source": [
    "task = Task('multilabel', device='gpu')"
   ]
  },
  {
   "cell_type": "code",
   "execution_count": 10,
   "id": "a765c16f",
   "metadata": {},
   "outputs": [],
   "source": [
    "automl_gpu = TabularAutoMLGPU(\n",
    "    task = task, \n",
    "    timeout = 3600,\n",
    "    cpu_limit = 1,\n",
    "    reader_params = {'n_jobs': 1, 'cv': 3, 'random_state': 42},\n",
    "    general_params = {'use_algos': [['linear_l2', 'pb']]}\n",
    ")"
   ]
  },
  {
   "cell_type": "code",
   "execution_count": 11,
   "id": "52f3b19f",
   "metadata": {},
   "outputs": [
    {
     "name": "stdout",
     "output_type": "stream",
     "text": [
      "[12:14:49] Stdout logging level is INFO2.\n",
      "[12:14:49] Task: multilabel\n",
      "\n",
      "[12:14:49] Start automl preset with listed constraints:\n",
      "[12:14:49] - time: 3600.00 seconds\n",
      "[12:14:49] - CPU: 1 cores\n",
      "[12:14:49] - memory: 16 GB\n",
      "\n",
      "[12:14:49] Train data shape: (14644, 22)\n",
      "[12:14:50] Feats was rejected during automatic roles guess: []\n",
      "[12:14:50] Layer \u001b[1m1\u001b[0m train process start. Time left 3599.37 secs\n",
      "[12:14:50] Start fitting \u001b[1mLvl_0_Pipe_0_Mod_0_LinearL2\u001b[0m ...\n",
      "[12:14:50] ===== Start working with \u001b[1mfold 0\u001b[0m for \u001b[1mLvl_0_Pipe_0_Mod_0_LinearL2\u001b[0m (orig) =====\n",
      "[12:14:55] ===== Start working with \u001b[1mfold 1\u001b[0m for \u001b[1mLvl_0_Pipe_0_Mod_0_LinearL2\u001b[0m (orig) =====\n",
      "[12:14:58] ===== Start working with \u001b[1mfold 2\u001b[0m for \u001b[1mLvl_0_Pipe_0_Mod_0_LinearL2\u001b[0m (orig) =====\n",
      "[12:15:02] Fitting \u001b[1mLvl_0_Pipe_0_Mod_0_LinearL2\u001b[0m finished. score = \u001b[1m-7.375488443139862\u001b[0m\n",
      "[12:15:02] \u001b[1mLvl_0_Pipe_0_Mod_0_LinearL2\u001b[0m fitting and predicting completed\n",
      "[12:15:02] Time left 3587.11 secs\n",
      "\n",
      "[12:15:04] Stdout logging level is INFO.\n",
      "[12:15:04] GDBT train starts. Max iter 3000, early stopping rounds 200\n",
      "[12:15:05] Iter 0; Sample 0, BCE = 0.37905486358293966; \n",
      "[12:15:05] Iter 100; Sample 0, BCE = 0.3534707082672765; \n",
      "[12:15:06] Iter 200; Sample 0, BCE = 0.3525223784274166; \n",
      "[12:15:06] Iter 300; Sample 0, BCE = 0.3526728296450847; \n",
      "[12:15:07] Iter 400; Sample 0, BCE = 0.35297438442501194; \n",
      "[12:15:07] Early stopping at iter 424, best iter 224, best_score 0.3524995798708292\n",
      "[12:15:07] \u001b[1mSelector_PB\u001b[0m fitting and predicting completed\n",
      "[12:15:07] Start fitting \u001b[1mLvl_0_Pipe_1_Mod_0_PB\u001b[0m ...\n",
      "[12:15:07] ===== Start working with \u001b[1mfold 0\u001b[0m for \u001b[1mLvl_0_Pipe_1_Mod_0_PB\u001b[0m (orig) =====\n",
      "[12:15:07] Stdout logging level is INFO.\n",
      "[12:15:07] GDBT train starts. Max iter 3000, early stopping rounds 200\n",
      "[12:15:07] Iter 0; Sample 0, BCE = 0.37871720201453335; \n",
      "[12:15:08] Iter 100; Sample 0, BCE = 0.3532383148280105; \n",
      "[12:15:08] Iter 200; Sample 0, BCE = 0.35317178497468066; \n",
      "[12:15:09] Iter 300; Sample 0, BCE = 0.3538459619039027; \n",
      "[12:15:09] Early stopping at iter 339, best iter 139, best_score 0.3529988075270356\n",
      "[12:15:09] ===== Start working with \u001b[1mfold 1\u001b[0m for \u001b[1mLvl_0_Pipe_1_Mod_0_PB\u001b[0m (orig) =====\n",
      "[12:15:09] Stdout logging level is INFO.\n",
      "[12:15:09] GDBT train starts. Max iter 3000, early stopping rounds 200\n",
      "[12:15:09] Iter 0; Sample 0, BCE = 0.3717551141639416; \n",
      "[12:15:10] Iter 100; Sample 0, BCE = 0.3455535750066493; \n",
      "[12:15:11] Iter 200; Sample 0, BCE = 0.34556765856463484; \n",
      "[12:15:11] Iter 300; Sample 0, BCE = 0.3462871427401957; \n",
      "[12:15:12] Early stopping at iter 348, best iter 148, best_score 0.34529035730429924\n",
      "[12:15:12] ===== Start working with \u001b[1mfold 2\u001b[0m for \u001b[1mLvl_0_Pipe_1_Mod_0_PB\u001b[0m (orig) =====\n",
      "[12:15:12] Stdout logging level is INFO.\n",
      "[12:15:12] GDBT train starts. Max iter 3000, early stopping rounds 200\n",
      "[12:15:12] Iter 0; Sample 0, BCE = 0.37520143381313176; \n",
      "[12:15:12] Iter 100; Sample 0, BCE = 0.34928549581073026; \n",
      "[12:15:13] Iter 200; Sample 0, BCE = 0.34933525618672023; \n",
      "[12:15:13] Iter 300; Sample 0, BCE = 0.3502290314053611; \n",
      "[12:15:14] Early stopping at iter 338, best iter 138, best_score 0.3490544760174646\n",
      "[12:15:14] Fitting \u001b[1mLvl_0_Pipe_1_Mod_0_PB\u001b[0m finished. score = \u001b[1m-7.316260211179896\u001b[0m\n",
      "[12:15:14] \u001b[1mLvl_0_Pipe_1_Mod_0_PB\u001b[0m fitting and predicting completed\n",
      "[12:15:14] Time left 3575.69 secs\n",
      "\n",
      "[12:15:14] \u001b[1mLayer 1 training completed.\u001b[0m\n",
      "\n",
      "[12:15:14] Blending: Optimization starts with equal weights and score -7.313471554065461\n",
      "[12:15:14] Blending, iter 0: score = -7.31345271997864, weights = [0.5257224 0.4742776]\n",
      "[12:15:14] Blending, iter 1: score = -7.31345271997864, weights = [0.5257224 0.4742776]\n",
      "[12:15:14] No score update. Terminated\n",
      "[12:15:14] \u001b[1mAutoml preset training completed in 24.55 seconds\u001b[0m\n",
      "\n",
      "[12:15:14] Model description:\n",
      "Final prediction for new objects (level 0) = \n",
      "\t 0.52572 * (3 averaged models Lvl_0_Pipe_0_Mod_0_LinearL2) +\n",
      "\t 0.47428 * (3 averaged models Lvl_0_Pipe_1_Mod_0_PB) \n",
      "\n"
     ]
    }
   ],
   "source": [
    "oof_pred_gpu = automl_gpu.fit_predict(data, roles = roles, verbose = 2)"
   ]
  },
  {
   "cell_type": "code",
   "execution_count": 12,
   "id": "5ad158c4",
   "metadata": {},
   "outputs": [],
   "source": [
    "gpu_inf = automl_gpu.predict(data)"
   ]
  },
  {
   "cell_type": "code",
   "execution_count": null,
   "id": "fb2d56a6",
   "metadata": {},
   "outputs": [],
   "source": []
  },
  {
   "cell_type": "code",
   "execution_count": 13,
   "id": "7748506a",
   "metadata": {},
   "outputs": [
    {
     "name": "stdout",
     "output_type": "stream",
     "text": [
      "multilabel isn`t supported in lgb\n",
      "[12:15:14] CatBoost uses as obj. MultiCrossEntropy.\n",
      "multilabel isn`t supported in lgb\n",
      "[12:15:14] CatBoost uses as obj. MultiCrossEntropy.\n",
      "multilabel isn`t supported in lgb\n",
      "[12:15:14] CatBoost uses as obj. MultiCrossEntropy.\n"
     ]
    },
    {
     "data": {
      "application/vnd.jupyter.widget-view+json": {
       "model_id": "de6a2aef0c57455ba7d4b48c6f23e9c9",
       "version_major": 2,
       "version_minor": 0
      },
      "text/plain": [
       "  0%|          | 0/224 [00:00<?, ?it/s]"
      ]
     },
     "metadata": {},
     "output_type": "display_data"
    },
    {
     "name": "stdout",
     "output_type": "stream",
     "text": [
      "multilabel isn`t supported in lgb\n",
      "[12:15:15] CatBoost uses as obj. MultiCrossEntropy.\n"
     ]
    },
    {
     "data": {
      "application/vnd.jupyter.widget-view+json": {
       "model_id": "389d436542574d5ab3c3a6b9c772ec96",
       "version_major": 2,
       "version_minor": 0
      },
      "text/plain": [
       "  0%|          | 0/139 [00:00<?, ?it/s]"
      ]
     },
     "metadata": {},
     "output_type": "display_data"
    },
    {
     "data": {
      "application/vnd.jupyter.widget-view+json": {
       "model_id": "07311b6b0da945b7a57e3c62f05a39d3",
       "version_major": 2,
       "version_minor": 0
      },
      "text/plain": [
       "  0%|          | 0/148 [00:00<?, ?it/s]"
      ]
     },
     "metadata": {},
     "output_type": "display_data"
    },
    {
     "data": {
      "application/vnd.jupyter.widget-view+json": {
       "model_id": "7b50c4cd85604496adb89e21cc8eed36",
       "version_major": 2,
       "version_minor": 0
      },
      "text/plain": [
       "  0%|          | 0/138 [00:00<?, ?it/s]"
      ]
     },
     "metadata": {},
     "output_type": "display_data"
    },
    {
     "name": "stdout",
     "output_type": "stream",
     "text": [
      "multilabel isn`t supported in lgb\n",
      "[12:15:16] CatBoost uses as obj. MultiCrossEntropy.\n"
     ]
    }
   ],
   "source": [
    "automl_gpu.to_cpu()"
   ]
  },
  {
   "cell_type": "code",
   "execution_count": null,
   "id": "b14160e6",
   "metadata": {},
   "outputs": [],
   "source": [
    "automl_gpu.levels[0][1].ml_algos[0].name"
   ]
  },
  {
   "cell_type": "code",
   "execution_count": null,
   "id": "512c9bab",
   "metadata": {},
   "outputs": [],
   "source": [
    "#model_inf.levels[0][1].ml_algos[0].name"
   ]
  },
  {
   "cell_type": "code",
   "execution_count": 14,
   "id": "bf8c7fd4",
   "metadata": {},
   "outputs": [],
   "source": [
    "cpu_inf = automl_gpu.predict(data)"
   ]
  },
  {
   "cell_type": "code",
   "execution_count": 15,
   "id": "027652e1",
   "metadata": {},
   "outputs": [],
   "source": [
    "from joblib import dump, load\n",
    "import time\n",
    "pickle_file = './gpu.joblib'"
   ]
  },
  {
   "cell_type": "code",
   "execution_count": 16,
   "id": "edc3395d",
   "metadata": {},
   "outputs": [
    {
     "name": "stdout",
     "output_type": "stream",
     "text": [
      "Raw dump duration: 0.015s\n"
     ]
    }
   ],
   "source": [
    "start = time.time()\n",
    "with open(pickle_file, 'wb') as f:\n",
    "    dump(automl_gpu, f)\n",
    "raw_dump_duration = time.time() - start\n",
    "print(\"Raw dump duration: %0.3fs\" % raw_dump_duration)"
   ]
  },
  {
   "cell_type": "code",
   "execution_count": 17,
   "id": "56a1a1b9",
   "metadata": {},
   "outputs": [
    {
     "name": "stdout",
     "output_type": "stream",
     "text": [
      "Raw load duration: 0.009s\n"
     ]
    }
   ],
   "source": [
    "\n",
    "start = time.time()\n",
    "with open(pickle_file, 'rb') as f:\n",
    "    model_inf = load(f)\n",
    "raw_load_duration = time.time() - start\n",
    "print(\"Raw load duration: %0.3fs\" % raw_load_duration)\n"
   ]
  },
  {
   "cell_type": "code",
   "execution_count": null,
   "id": "6ea7237a",
   "metadata": {},
   "outputs": [],
   "source": [
    "model_inf.levels[0][1].ml_algos[0].models[0].__dict__"
   ]
  },
  {
   "cell_type": "code",
   "execution_count": null,
   "id": "8ad59ea7",
   "metadata": {},
   "outputs": [],
   "source": []
  },
  {
   "cell_type": "code",
   "execution_count": 18,
   "id": "2ae4bbf1",
   "metadata": {},
   "outputs": [],
   "source": [
    "disk_pred = model_inf.predict(data)"
   ]
  },
  {
   "cell_type": "code",
   "execution_count": 19,
   "id": "8fdecea7",
   "metadata": {},
   "outputs": [
    {
     "data": {
      "text/plain": [
       "array([[0.00409981, 0.01182499, 0.00467859, ..., 0.00900183, 0.0052202 ,\n",
       "        0.00467147],\n",
       "       [0.00137125, 0.00218978, 0.00143265, ..., 0.00498717, 0.00159189,\n",
       "        0.00160492],\n",
       "       [0.03862619, 0.07474752, 0.04614756, ..., 0.23067841, 0.03688202,\n",
       "        0.04131494],\n",
       "       ...,\n",
       "       [0.01116886, 0.01822781, 0.01073365, ..., 0.0433928 , 0.0087622 ,\n",
       "        0.01240759],\n",
       "       [0.10287236, 0.16949932, 0.11420202, ..., 0.2631097 , 0.10364739,\n",
       "        0.1352504 ],\n",
       "       [0.628377  , 0.5847929 , 0.6263023 , ..., 0.3624467 , 0.63298523,\n",
       "        0.59682274]], dtype=float32)"
      ]
     },
     "execution_count": 19,
     "metadata": {},
     "output_type": "execute_result"
    }
   ],
   "source": [
    "disk_pred.data.T"
   ]
  },
  {
   "cell_type": "code",
   "execution_count": 20,
   "id": "23815756",
   "metadata": {},
   "outputs": [
    {
     "data": {
      "text/plain": [
       "array([[0.00409981, 0.01182499, 0.00467859, ..., 0.00900183, 0.0052202 ,\n",
       "        0.00467147],\n",
       "       [0.00137125, 0.00218978, 0.00143265, ..., 0.00498717, 0.00159189,\n",
       "        0.00160492],\n",
       "       [0.03862619, 0.07474752, 0.04614756, ..., 0.23067841, 0.03688202,\n",
       "        0.04131494],\n",
       "       ...,\n",
       "       [0.01116886, 0.01822781, 0.01073365, ..., 0.0433928 , 0.0087622 ,\n",
       "        0.01240759],\n",
       "       [0.10287236, 0.16949932, 0.11420202, ..., 0.2631097 , 0.10364739,\n",
       "        0.1352504 ],\n",
       "       [0.628377  , 0.5847929 , 0.6263023 , ..., 0.3624467 , 0.63298523,\n",
       "        0.59682274]], dtype=float32)"
      ]
     },
     "execution_count": 20,
     "metadata": {},
     "output_type": "execute_result"
    }
   ],
   "source": [
    "disk_pred.data.T"
   ]
  },
  {
   "cell_type": "code",
   "execution_count": 21,
   "id": "9565ca88",
   "metadata": {},
   "outputs": [
    {
     "name": "stdout",
     "output_type": "stream",
     "text": [
      "[[0.00409981 0.01182499 0.00467859 ... 0.00900183 0.0052202  0.00467147]\n",
      " [0.00137125 0.00218978 0.00143265 ... 0.00498717 0.00159189 0.00160492]\n",
      " [0.03862619 0.07474752 0.04614756 ... 0.23067841 0.03688202 0.04131494]\n",
      " ...\n",
      " [0.01116886 0.01822781 0.01073365 ... 0.0433928  0.0087622  0.01240759]\n",
      " [0.10287236 0.16949932 0.11420202 ... 0.2631097  0.10364739 0.1352504 ]\n",
      " [0.628377   0.5847929  0.6263023  ... 0.3624467  0.63298523 0.59682274]]\n",
      "\n",
      "[[0.00409981 0.01182498 0.00467859 ... 0.00900183 0.0052202  0.00467147]\n",
      " [0.00137125 0.00218979 0.00143265 ... 0.00498716 0.00159189 0.00160492]\n",
      " [0.03862621 0.07474754 0.04614757 ... 0.23067841 0.03688202 0.04131496]\n",
      " ...\n",
      " [0.01116887 0.01822781 0.01073365 ... 0.0433928  0.0087622  0.0124076 ]\n",
      " [0.10287233 0.16949931 0.114202   ... 0.26310968 0.10364738 0.13525039]\n",
      " [0.628377   0.584793   0.62630224 ... 0.36244667 0.63298523 0.59682274]]\n",
      "\n",
      "[[0.00396225 0.01328214 0.00533394 ... 0.00686121 0.00422175 0.0050306 ]\n",
      " [0.00132121 0.00203942 0.00131857 ... 0.00468588 0.00178963 0.00136937]\n",
      " [0.04001716 0.08414786 0.04616724 ... 0.22514883 0.03216193 0.04066575]\n",
      " ...\n",
      " [0.01107375 0.01732871 0.01117288 ... 0.04878388 0.00951146 0.01357223]\n",
      " [0.09985128 0.18005775 0.11698797 ... 0.22673625 0.10247627 0.13094236]\n",
      " [0.63052386 0.58151513 0.6230135  ... 0.37945497 0.6291446  0.5919877 ]]\n",
      "\n",
      "\n",
      "[[0.00409981 0.01182499 0.00467859 ... 0.00900183 0.0052202  0.00467147]\n",
      " [0.00137125 0.00218978 0.00143265 ... 0.00498717 0.00159189 0.00160492]\n",
      " [0.03862619 0.07474752 0.04614756 ... 0.23067841 0.03688202 0.04131494]\n",
      " ...\n",
      " [0.01116886 0.01822781 0.01073365 ... 0.0433928  0.0087622  0.01240759]\n",
      " [0.10287236 0.16949932 0.11420202 ... 0.2631097  0.10364739 0.1352504 ]\n",
      " [0.628377   0.5847929  0.6263023  ... 0.3624467  0.63298523 0.59682274]]\n"
     ]
    }
   ],
   "source": [
    "print(cpu_inf.data.T)\n",
    "print()\n",
    "print(gpu_inf.data.T)\n",
    "print()\n",
    "print(oof_pred_gpu.data.T)\n",
    "print()\n",
    "print(oof_pred.data.T)\n",
    "print()\n",
    "print(disk_pred.data.T)"
   ]
  },
  {
   "cell_type": "code",
   "execution_count": null,
   "id": "70394263",
   "metadata": {},
   "outputs": [],
   "source": [
    "cluster = LocalCUDACluster(rmm_managed_memory=True, CUDA_VISIBLE_DEVICES=\"0\",\n",
    "                               protocol=\"ucx\", enable_nvlink=True,\n",
    "                               memory_limit=\"8GB\")\n",
    "print(\"dashboard:\", cluster.dashboard_link)\n",
    "client = Client(cluster)\n",
    "client.run(cudf.set_allocator, \"managed\")"
   ]
  },
  {
   "cell_type": "code",
   "execution_count": null,
   "id": "fbf94656",
   "metadata": {},
   "outputs": [],
   "source": [
    "task = Task('multilabel', device='mgpu')\n",
    "\n",
    "automl_mgpu = TabularAutoMLGPU(\n",
    "    task = task, \n",
    "    timeout = 3600,\n",
    "    cpu_limit = 1,\n",
    "    reader_params = {'n_jobs': 1, 'cv': 3, 'random_state': 42, 'npartitions': 2},\n",
    "    general_params = {'use_algos': [['xgb', 'linear_l2']]},\n",
    "    client = client\n",
    ")\n",
    "\n",
    "oof_pred_mgpu = automl_mgpu.fit_predict(data, roles = roles, verbose = 2)"
   ]
  },
  {
   "cell_type": "code",
   "execution_count": null,
   "id": "0c8a80f3",
   "metadata": {},
   "outputs": [],
   "source": [
    "automl_mgpu.to_cpu()"
   ]
  },
  {
   "cell_type": "code",
   "execution_count": null,
   "id": "0332f750",
   "metadata": {},
   "outputs": [],
   "source": [
    "mcpu_inf = automl_mgpu.predict(data)"
   ]
  },
  {
   "cell_type": "code",
   "execution_count": null,
   "id": "8b9af169",
   "metadata": {},
   "outputs": [],
   "source": [
    "print(cpu_inf.data.T)\n",
    "print()\n",
    "print(gpu_inf.data.T)\n",
    "print()\n",
    "print(oof_pred_gpu.data.T)\n",
    "print()\n",
    "print(oof_pred.data.T)\n",
    "print()\n",
    "print(oof_pred_mgpu.data.T)\n",
    "print()\n",
    "print(mcpu_inf.data.T)"
   ]
  },
  {
   "cell_type": "code",
   "execution_count": null,
   "id": "507aa230",
   "metadata": {},
   "outputs": [],
   "source": [
    "from joblib import dump, load\n",
    "import time\n",
    "\n",
    "pickle_file = './mgpu.joblib'\n",
    "\n",
    "start = time.time()\n",
    "with open(pickle_file, 'wb') as f:\n",
    "    dump(automl_mgpu, f)\n",
    "raw_dump_duration = time.time() - start\n",
    "print(\"Raw dump duration: %0.3fs\" % raw_dump_duration)"
   ]
  },
  {
   "cell_type": "code",
   "execution_count": null,
   "id": "08a422d6",
   "metadata": {},
   "outputs": [],
   "source": []
  },
  {
   "cell_type": "code",
   "execution_count": null,
   "id": "e0f59447",
   "metadata": {},
   "outputs": [],
   "source": []
  }
 ],
 "metadata": {
  "kernelspec": {
   "display_name": "rapids-22.10",
   "language": "python",
   "name": "rapids-22.10"
  },
  "language_info": {
   "codemirror_mode": {
    "name": "ipython",
    "version": 3
   },
   "file_extension": ".py",
   "mimetype": "text/x-python",
   "name": "python",
   "nbconvert_exporter": "python",
   "pygments_lexer": "ipython3",
   "version": "3.9.13"
  }
 },
 "nbformat": 4,
 "nbformat_minor": 5
}
