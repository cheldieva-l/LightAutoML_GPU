{
 "cells": [
  {
   "cell_type": "code",
   "execution_count": 1,
   "id": "4117fdeb",
   "metadata": {},
   "outputs": [],
   "source": [
    "from time import perf_counter\n",
    "import numpy as np\n",
    "import pandas as pd\n",
    "import random\n",
    "from numba import jit\n",
    "import string\n",
    "\n",
    "from lightautoml_gpu.reader.gpu.seq_reader_gpu import DictToCudfSeqReader\n",
    "from lightautoml_gpu.reader.gpu.seq_reader_gpu import DictToDaskCudfSeqReader\n",
    "from lightautoml_gpu.reader.base import DictToPandasSeqReader\n",
    "from lightautoml_gpu.tasks import Task\n",
    "\n",
    "from lightautoml_gpu.transformers.seq import SeqNumCountsTransformer\n",
    "from lightautoml_gpu.transformers.seq import SeqStatisticsTransformer\n",
    "from lightautoml_gpu.transformers.seq import GetSeqTransformer\n",
    "from lightautoml_gpu.transformers.gpu.seq_gpu import SeqNumCountsTransformerGPU\n",
    "from lightautoml_gpu.transformers.gpu.seq_gpu import SeqStatisticsTransformerGPU\n",
    "from lightautoml_gpu.transformers.gpu.seq_gpu import GetSeqTransformerGPU\n",
    "\n",
    "RANDS_CHARS = np.array(list(string.ascii_letters + string.digits),\n",
    "                       dtype=(np.str_, 1))\n",
    "\n",
    "@jit(nopython=True)\n",
    "def gen_cols(n_cols):\n",
    "    cols = [\"\"]*n_cols\n",
    "    for i in range(n_cols):\n",
    "        cols[i] = \"col_\" + str(i)\n",
    "    return cols\n",
    "\n",
    "def gen_string_data(n, n_str):\n",
    "    string_db = [\"algorithm\", \"analog\", \"app\", \"application\", \"array\",\n",
    "                 \"backup\", \"bandwidth\", \"binary\", \"bit\", \"byte\"]#,\n",
    "                 #\"bitmap\", \"blog\", \"bookmark\", \"boot\", \"broadband\",\n",
    "                 #\"browser\" , \"buffer\", \"bug\"]\n",
    "    inds = np.random.randint(0, len(string_db), (n, n_str))\n",
    "    output = np.empty(inds.shape, dtype=object)\n",
    "    for i in range(inds.shape[0]):\n",
    "        for j in range(inds.shape[1]):\n",
    "            output[i][j] = string_db[inds[i][j]]\n",
    "\n",
    "    return output\n",
    "\n",
    "def gen_data_single_target(n: int, n_num: int, n_cat: int, n_date: int,\n",
    "         n_str: str, max_n_cat: int, n_ids: int, max_ids: list = None,\n",
    "         cols: list = None):\n",
    "    n_cols = n_num+n_cat+n_str+n_date+n_ids\n",
    "    cols = gen_cols(n_cols) if cols is None else cols\n",
    "    data = np.random.random((n, n_num))*100-50\n",
    "\n",
    "    category_data = np.random.randint(0, np.random.randint(1,max_n_cat),\n",
    "                                      (n, n_cat))\n",
    "    string_data = gen_string_data(n, n_str)\n",
    "\n",
    "    string_data = np.reshape(string_data, (n, n_str))\n",
    "\n",
    "    date_data = np.random.randint(0, 1000, (n, n_date))\\\n",
    "                               .astype(np.dtype(\"timedelta64[D]\")) \\\n",
    "                              + np.datetime64(\"2018-01-01\")\n",
    "\n",
    "    if max_ids is None:\n",
    "        id_data = np.arange(n, dtype=int)[:, np.newaxis]\\\n",
    "                  *np.ones(n_ids, dtype=int)[:, np.newaxis].T\n",
    "        for elem in id_data.T:\n",
    "            np.random.shuffle(elem)\n",
    "    else:\n",
    "        id_data = np.array(np.random.random((n, n_ids))*max_ids//1,\n",
    "                           dtype=int)\n",
    "\n",
    "    data = pd.DataFrame(data, columns = cols[:n_num]).astype('f')\n",
    "    \n",
    "    ix = [(row, col) for row in range(data.shape[0]) \\\n",
    "                     for col in range(data.shape[1])]\n",
    "    #for row, col in random.sample(ix, int(round(.1*len(ix)))):\n",
    "    #    data.iat[row, col] = np.nan\n",
    "    \n",
    "    nn = len(data.columns)\n",
    "    for i in range(n_cat):\n",
    "        data[cols[nn+i]] = pd.Series(category_data[:,i]).astype('f')\n",
    "    nn = len(data.columns)\n",
    "    for i in range(n_str):\n",
    "        data[cols[nn+i]] = pd.Series(string_data[:,i]).astype(object)\n",
    "    nn = len(data.columns)\n",
    "    for i in range(n_date):\n",
    "        data[cols[nn+i]] = pd.Series(date_data[:,i])\n",
    "    nn = len(data.columns)\n",
    "    for i in range(n_ids):\n",
    "        data[cols[nn+i]] = pd.Series(id_data[:, i])\n",
    "\n",
    "    data['TARGET'] = pd.Series(np.random.randint(0, 5, n)).astype('i')\n",
    "\n",
    "    return 'TARGET', cols, data\n",
    "\n",
    "## Data preparation\n",
    "n, n_num, n_cat, n_date, n_str = 5000, 3, 2, 2, 1\n",
    "max_n_cat, n_ids = 10, 1\n",
    "cols_data1 = [\"a\",\"b\",\"c\",\"d\",\"e\",\"str1\",\n",
    "              \"date1\", \"date2\", \"data1_id\"]\n",
    "_, _, data1 = gen_data_single_target(n, n_num, n_cat, \n",
    "              n_date, n_str, max_n_cat, n_ids, cols=cols_data1)\n",
    "\n",
    "n, n_num, n_cat, n_date, n_str = 3500000, 2, 2, 0, 0\n",
    "max_n_cat, n_ids = 5, 1\n",
    "cols_data2 = [\"h\",\"i\",\"j\",\"k\", \"data2_id\"]\n",
    "_, _, data2 = gen_data_single_target(n, n_num, n_cat, \n",
    "              n_date, n_str, max_n_cat, n_ids, cols=cols_data2)\n",
    "\n",
    "max_ids = [50, 100]\n",
    "n, n_num, n_cat, n_date = 5000000, 4, 6, 2\n",
    "n_str, max_n_cat, n_ids = 2, 15, 2\n",
    "target, cols, train = gen_data_single_target(n, n_num, n_cat, \n",
    "                     n_date, n_str, max_n_cat, n_ids, max_ids)\n",
    "\n",
    "n = 200\n",
    "_, _, test = gen_data_single_target(n, n_num, n_cat, \n",
    "                     n_date, n_str, max_n_cat, n_ids, max_ids)\n",
    "seq_params = {\n",
    "         'data1':{'case': 'ids',\n",
    "                  'params': {},\n",
    "                  'scheme': {'to': 'plain', \n",
    "                             'from_id': 'data1_id',\n",
    "                             'to_id': 'col_14'},\n",
    "                 },\n",
    "         'data2':{'case': 'ids',\n",
    "                  'params': {},\n",
    "                  'scheme': {'to': 'plain',\n",
    "                             'from_id': 'data2_id',\n",
    "                             'to_id': 'col_15'},\n",
    "                      },\n",
    "          }\n",
    "seq_data = {'data1': data1[cols_data1],\n",
    "            'data2': data2[cols_data2]              \n",
    "           }\n",
    "X_train = {'plain':train , \n",
    "           'seq': seq_data\n",
    "          }\n",
    "X_test = {'plain':test , \n",
    "           'seq': seq_data\n",
    "          }\n",
    "name = 'data2'\n",
    "\n",
    "## Data preparation finished\n",
    "\n",
    "task = Task('reg', metric='mae')\n",
    "task_gpu = Task('reg', metric='mae', device='gpu')\n",
    "task_mgpu = Task('reg', metric='mae', device='mgpu')\n",
    "roles={'target': target}\n",
    "\n",
    "reader = DictToPandasSeqReader(task=task, seq_params=seq_params)"
   ]
  },
  {
   "cell_type": "code",
   "execution_count": 2,
   "id": "b64444e8",
   "metadata": {
    "scrolled": true
   },
   "outputs": [
    {
     "name": "stderr",
     "output_type": "stream",
     "text": [
      "/home/rishat/miniconda3/envs/rapids-22.10/lib/python3.9/site-packages/lightautoml_gpu/transformers/categorical.py:448: RuntimeWarning: invalid value encountered in divide\n",
      "  folds_prior = (f_sum.sum() - f_sum) / (f_count.sum() - f_count)\n",
      "/home/rishat/miniconda3/envs/rapids-22.10/lib/python3.9/site-packages/lightautoml_gpu/transformers/categorical.py:448: RuntimeWarning: invalid value encountered in divide\n",
      "  folds_prior = (f_sum.sum() - f_sum) / (f_count.sum() - f_count)\n",
      "/home/rishat/miniconda3/envs/rapids-22.10/lib/python3.9/site-packages/lightautoml_gpu/transformers/categorical.py:448: RuntimeWarning: invalid value encountered in divide\n",
      "  folds_prior = (f_sum.sum() - f_sum) / (f_count.sum() - f_count)\n",
      "/home/rishat/miniconda3/envs/rapids-22.10/lib/python3.9/site-packages/lightautoml_gpu/transformers/categorical.py:448: RuntimeWarning: invalid value encountered in divide\n",
      "  folds_prior = (f_sum.sum() - f_sum) / (f_count.sum() - f_count)\n",
      "/home/rishat/miniconda3/envs/rapids-22.10/lib/python3.9/site-packages/lightautoml_gpu/transformers/categorical.py:448: RuntimeWarning: invalid value encountered in divide\n",
      "  folds_prior = (f_sum.sum() - f_sum) / (f_count.sum() - f_count)\n",
      "/home/rishat/miniconda3/envs/rapids-22.10/lib/python3.9/site-packages/lightautoml_gpu/transformers/categorical.py:448: RuntimeWarning: invalid value encountered in divide\n",
      "  folds_prior = (f_sum.sum() - f_sum) / (f_count.sum() - f_count)\n",
      "/home/rishat/miniconda3/envs/rapids-22.10/lib/python3.9/site-packages/lightautoml_gpu/transformers/categorical.py:448: RuntimeWarning: invalid value encountered in divide\n",
      "  folds_prior = (f_sum.sum() - f_sum) / (f_count.sum() - f_count)\n",
      "/home/rishat/miniconda3/envs/rapids-22.10/lib/python3.9/site-packages/lightautoml_gpu/transformers/categorical.py:448: RuntimeWarning: invalid value encountered in divide\n",
      "  folds_prior = (f_sum.sum() - f_sum) / (f_count.sum() - f_count)\n",
      "/home/rishat/miniconda3/envs/rapids-22.10/lib/python3.9/site-packages/lightautoml_gpu/transformers/categorical.py:448: RuntimeWarning: invalid value encountered in divide\n",
      "  folds_prior = (f_sum.sum() - f_sum) / (f_count.sum() - f_count)\n",
      "/home/rishat/miniconda3/envs/rapids-22.10/lib/python3.9/site-packages/lightautoml_gpu/transformers/categorical.py:448: RuntimeWarning: invalid value encountered in divide\n",
      "  folds_prior = (f_sum.sum() - f_sum) / (f_count.sum() - f_count)\n"
     ]
    }
   ],
   "source": [
    "res = reader.fit_read(X_train, roles=roles)"
   ]
  },
  {
   "cell_type": "code",
   "execution_count": 3,
   "id": "7415e2eb",
   "metadata": {},
   "outputs": [],
   "source": [
    "from lightautoml_gpu.reader.gpu.seq_gpu import IDSIndGPU, TopIndGPU\n",
    "import cudf"
   ]
  },
  {
   "cell_type": "code",
   "execution_count": 4,
   "id": "8aee9469",
   "metadata": {},
   "outputs": [],
   "source": [
    "name = 'data2'\n",
    "\n",
    "ids_gpu = IDSIndGPU(\n",
    "    scheme = reader.seq_params[name].get(\"scheme\", None),\n",
    "    **reader.seq_params[name][\"params\"])"
   ]
  },
  {
   "cell_type": "code",
   "execution_count": 5,
   "id": "23f0b75b",
   "metadata": {},
   "outputs": [],
   "source": [
    "cpu_data = res.seq_data[name].data\n",
    "cudf_data = cudf.DataFrame.from_pandas(cpu_data, nan_as_null=False)\n",
    "cudf_train = cudf.DataFrame.from_pandas(train, nan_as_null=False)"
   ]
  },
  {
   "cell_type": "code",
   "execution_count": 6,
   "id": "f998b280",
   "metadata": {},
   "outputs": [
    {
     "data": {
      "text/plain": [
       "(3500000, 3)"
      ]
     },
     "execution_count": 6,
     "metadata": {},
     "output_type": "execute_result"
    }
   ],
   "source": [
    "cpu_data.shape"
   ]
  },
  {
   "cell_type": "code",
   "execution_count": 7,
   "id": "0dc69ab2",
   "metadata": {},
   "outputs": [
    {
     "name": "stdout",
     "output_type": "stream",
     "text": [
      "CPU times: user 36.1 s, sys: 269 ms, total: 36.4 s\n",
      "Wall time: 36.4 s\n"
     ]
    }
   ],
   "source": [
    "%%time\n",
    "\n",
    "ids = cpu_data.reset_index().groupby(ids_gpu.scheme['from_id'])['index'].apply(list).to_dict()"
   ]
  },
  {
   "cell_type": "code",
   "execution_count": 8,
   "id": "356b4777",
   "metadata": {},
   "outputs": [
    {
     "name": "stdout",
     "output_type": "stream",
     "text": [
      "CPU times: user 1.65 s, sys: 164 ms, total: 1.81 s\n",
      "Wall time: 1.81 s\n"
     ]
    }
   ],
   "source": [
    "%%time\n",
    "\n",
    "r = cudf_data.reset_index().groupby(ids_gpu.scheme['from_id'])['index'].agg('collect').to_pandas().to_dict()"
   ]
  },
  {
   "cell_type": "code",
   "execution_count": null,
   "id": "5546cee3",
   "metadata": {},
   "outputs": [],
   "source": []
  },
  {
   "cell_type": "code",
   "execution_count": null,
   "id": "f5bb73bb",
   "metadata": {},
   "outputs": [],
   "source": []
  },
  {
   "cell_type": "code",
   "execution_count": 9,
   "id": "f34ae365",
   "metadata": {},
   "outputs": [
    {
     "name": "stdout",
     "output_type": "stream",
     "text": [
      "CPU times: user 1.02 s, sys: 55.8 ms, total: 1.08 s\n",
      "Wall time: 1.08 s\n"
     ]
    }
   ],
   "source": [
    "%%time\n",
    "\n",
    "res1 = cudf_train[ids_gpu.scheme[\"to_id\"]].to_pandas().map(ids).values\n"
   ]
  },
  {
   "cell_type": "code",
   "execution_count": 10,
   "id": "97c61b34",
   "metadata": {},
   "outputs": [
    {
     "name": "stdout",
     "output_type": "stream",
     "text": [
      "CPU times: user 1.2 s, sys: 195 ms, total: 1.39 s\n",
      "Wall time: 1.4 s\n"
     ]
    }
   ],
   "source": [
    "%%time\n",
    "\n",
    "res2 = cudf_train[ids_gpu.scheme[\"to_id\"]].map(ids).to_pandas().values"
   ]
  },
  {
   "cell_type": "code",
   "execution_count": 11,
   "id": "50399306",
   "metadata": {},
   "outputs": [
    {
     "data": {
      "text/plain": [
       "array([list([3002905]), list([3174624]), list([1629428]), ...,\n",
       "       list([1783702]), list([1885678]), list([1555375])], dtype=object)"
      ]
     },
     "execution_count": 11,
     "metadata": {},
     "output_type": "execute_result"
    }
   ],
   "source": [
    "res1"
   ]
  },
  {
   "cell_type": "code",
   "execution_count": 12,
   "id": "30a8920f",
   "metadata": {},
   "outputs": [
    {
     "data": {
      "text/plain": [
       "array([array([3002905]), array([3174624]), array([1629428]), ...,\n",
       "       array([1783702]), array([1885678]), array([1555375])], dtype=object)"
      ]
     },
     "execution_count": 12,
     "metadata": {},
     "output_type": "execute_result"
    }
   ],
   "source": [
    "res2"
   ]
  },
  {
   "cell_type": "code",
   "execution_count": 13,
   "id": "5b1ff0b1",
   "metadata": {},
   "outputs": [
    {
     "name": "stderr",
     "output_type": "stream",
     "text": [
      "/home/rishat/miniconda3/envs/rapids-22.10/lib/python3.9/site-packages/lightautoml_gpu/transformers/categorical.py:448: RuntimeWarning: invalid value encountered in divide\n",
      "  folds_prior = (f_sum.sum() - f_sum) / (f_count.sum() - f_count)\n",
      "/home/rishat/miniconda3/envs/rapids-22.10/lib/python3.9/site-packages/lightautoml_gpu/transformers/categorical.py:448: RuntimeWarning: invalid value encountered in divide\n",
      "  folds_prior = (f_sum.sum() - f_sum) / (f_count.sum() - f_count)\n",
      "/home/rishat/miniconda3/envs/rapids-22.10/lib/python3.9/site-packages/lightautoml_gpu/transformers/categorical.py:448: RuntimeWarning: invalid value encountered in divide\n",
      "  folds_prior = (f_sum.sum() - f_sum) / (f_count.sum() - f_count)\n",
      "/home/rishat/miniconda3/envs/rapids-22.10/lib/python3.9/site-packages/lightautoml_gpu/transformers/categorical.py:448: RuntimeWarning: invalid value encountered in divide\n",
      "  folds_prior = (f_sum.sum() - f_sum) / (f_count.sum() - f_count)\n",
      "/home/rishat/miniconda3/envs/rapids-22.10/lib/python3.9/site-packages/lightautoml_gpu/transformers/categorical.py:448: RuntimeWarning: invalid value encountered in divide\n",
      "  folds_prior = (f_sum.sum() - f_sum) / (f_count.sum() - f_count)\n",
      "/home/rishat/miniconda3/envs/rapids-22.10/lib/python3.9/site-packages/lightautoml_gpu/transformers/categorical.py:448: RuntimeWarning: invalid value encountered in divide\n",
      "  folds_prior = (f_sum.sum() - f_sum) / (f_count.sum() - f_count)\n",
      "/home/rishat/miniconda3/envs/rapids-22.10/lib/python3.9/site-packages/lightautoml_gpu/transformers/categorical.py:448: RuntimeWarning: invalid value encountered in divide\n",
      "  folds_prior = (f_sum.sum() - f_sum) / (f_count.sum() - f_count)\n",
      "/home/rishat/miniconda3/envs/rapids-22.10/lib/python3.9/site-packages/lightautoml_gpu/transformers/categorical.py:448: RuntimeWarning: invalid value encountered in divide\n",
      "  folds_prior = (f_sum.sum() - f_sum) / (f_count.sum() - f_count)\n",
      "/home/rishat/miniconda3/envs/rapids-22.10/lib/python3.9/site-packages/lightautoml_gpu/transformers/categorical.py:448: RuntimeWarning: invalid value encountered in divide\n",
      "  folds_prior = (f_sum.sum() - f_sum) / (f_count.sum() - f_count)\n",
      "/home/rishat/miniconda3/envs/rapids-22.10/lib/python3.9/site-packages/lightautoml_gpu/transformers/categorical.py:448: RuntimeWarning: invalid value encountered in divide\n",
      "  folds_prior = (f_sum.sum() - f_sum) / (f_count.sum() - f_count)\n"
     ]
    }
   ],
   "source": [
    "task = Task('reg', metric='mae')\n",
    "task_gpu = Task('reg', metric='mae', device='gpu')\n",
    "task_mgpu = Task('reg', metric='mae', device='mgpu')\n",
    "roles={'target': target}\n",
    "\n",
    "reader = DictToPandasSeqReader(task=task, seq_params=seq_params)    \n",
    "res = reader.fit_read(X_train, roles=roles)\n",
    "reader_gpu = DictToCudfSeqReader(task=task_gpu,\n",
    "                                seq_params=seq_params, n_jobs=1)\n",
    "res_gpu = reader_gpu.fit_read(X_train, roles=roles)\n",
    "reader_mgpu = DictToDaskCudfSeqReader(task=task_mgpu, cv=3,\n",
    "               n_jobs = 1, npartitions=2, seq_params=seq_params)\n",
    "#res_mgpu = reader_mgpu.fit_read(X_train, roles=roles)\n",
    "\n",
    "counts = SeqNumCountsTransformer()\n",
    "counts_gpu = SeqNumCountsTransformerGPU()\n",
    "\n",
    "stats = SeqStatisticsTransformer()\n",
    "stats_gpu = SeqStatisticsTransformerGPU()\n",
    "\n",
    "seq = GetSeqTransformer(name=name)\n",
    "seq_gpu = GetSeqTransformerGPU(name=name)"
   ]
  },
  {
   "cell_type": "code",
   "execution_count": 14,
   "id": "59d19490",
   "metadata": {},
   "outputs": [
    {
     "ename": "SyntaxError",
     "evalue": "invalid syntax (3307397290.py, line 1)",
     "output_type": "error",
     "traceback": [
      "\u001b[0;36m  Cell \u001b[0;32mIn [14], line 1\u001b[0;36m\u001b[0m\n\u001b[0;31m    50+35      74 ms, 7.19 ms      116 ms, 45.4 ms          3.43 ms, 1.02 ms\u001b[0m\n\u001b[0m               ^\u001b[0m\n\u001b[0;31mSyntaxError\u001b[0m\u001b[0;31m:\u001b[0m invalid syntax\n"
     ]
    }
   ],
   "source": [
    "50+35      74 ms, 7.19 ms      116 ms, 45.4 ms          3.43 ms, 1.02 ms\n",
    "500+350    710 63               1 s 494                 10 ms, 1.04 ms\n",
    "5m+3.5m    7   490             10 5                     10 ms, 1.1"
   ]
  },
  {
   "cell_type": "code",
   "execution_count": 15,
   "id": "1e6039ec",
   "metadata": {},
   "outputs": [
    {
     "name": "stdout",
     "output_type": "stream",
     "text": [
      "CPU times: user 7.08 s, sys: 8.12 ms, total: 7.09 s\n",
      "Wall time: 7.09 s\n"
     ]
    }
   ],
   "source": [
    "%%time\n",
    "\n",
    "counts.fit(res.seq_data[name])\n",
    "out_counts = counts.transform(res.seq_data[name])"
   ]
  },
  {
   "cell_type": "code",
   "execution_count": 16,
   "id": "e0d9944d",
   "metadata": {},
   "outputs": [
    {
     "name": "stdout",
     "output_type": "stream",
     "text": [
      "CPU times: user 465 ms, sys: 23.7 ms, total: 489 ms\n",
      "Wall time: 490 ms\n"
     ]
    }
   ],
   "source": [
    "%%time\n",
    "\n",
    "counts_gpu.fit(res_gpu.seq_data[name])\n",
    "out_counts_gpu = counts_gpu.transform(res_gpu.seq_data[name])\n"
   ]
  },
  {
   "cell_type": "code",
   "execution_count": 17,
   "id": "32bc04fd",
   "metadata": {},
   "outputs": [
    {
     "name": "stdout",
     "output_type": "stream",
     "text": [
      "CPU times: user 2 µs, sys: 0 ns, total: 2 µs\n",
      "Wall time: 3.1 µs\n"
     ]
    }
   ],
   "source": [
    "%%time\n",
    "\n",
    "#counts_gpu.fit(res_mgpu.seq_data[name])\n",
    "#out_counts_mgpu = counts_gpu.transform(res_mgpu.seq_data[name])\n"
   ]
  },
  {
   "cell_type": "code",
   "execution_count": 18,
   "id": "55a6b4db",
   "metadata": {},
   "outputs": [
    {
     "name": "stdout",
     "output_type": "stream",
     "text": [
      "CPU times: user 9.96 s, sys: 449 ms, total: 10.4 s\n",
      "Wall time: 10.3 s\n"
     ]
    }
   ],
   "source": [
    "%%time\n",
    "\n",
    "stats.fit(res.seq_data[name])\n",
    "out_stats = stats.transform(res.seq_data[name])"
   ]
  },
  {
   "cell_type": "code",
   "execution_count": 19,
   "id": "10403f25",
   "metadata": {
    "scrolled": true
   },
   "outputs": [
    {
     "name": "stdout",
     "output_type": "stream",
     "text": [
      "CPU times: user 4.74 s, sys: 289 ms, total: 5.03 s\n",
      "Wall time: 5.03 s\n"
     ]
    }
   ],
   "source": [
    "%%time\n",
    "\n",
    "stats_gpu.fit(res_gpu.seq_data[name])\n",
    "out_stats_gpu = stats_gpu.transform(res_gpu.seq_data[name])"
   ]
  },
  {
   "cell_type": "code",
   "execution_count": 20,
   "id": "a08df1c5",
   "metadata": {},
   "outputs": [
    {
     "name": "stdout",
     "output_type": "stream",
     "text": [
      "CPU times: user 2 µs, sys: 0 ns, total: 2 µs\n",
      "Wall time: 2.62 µs\n"
     ]
    }
   ],
   "source": [
    "%%time\n",
    "\n",
    "#stats_gpu.fit(res_mgpu.seq_data[name])\n",
    "#out_stats_mgpu = stats_gpu.transform(res_mgpu.seq_data[name])"
   ]
  },
  {
   "cell_type": "code",
   "execution_count": 21,
   "id": "ca45b985",
   "metadata": {},
   "outputs": [
    {
     "data": {
      "text/plain": [
       "True"
      ]
     },
     "execution_count": 21,
     "metadata": {},
     "output_type": "execute_result"
    }
   ],
   "source": [
    "np.allclose(out_stats_gpu.data.values_host, out_stats.data)"
   ]
  },
  {
   "cell_type": "code",
   "execution_count": 26,
   "id": "4a42d414",
   "metadata": {},
   "outputs": [
    {
     "name": "stdout",
     "output_type": "stream",
     "text": [
      "CPU times: user 3.74 ms, sys: 7.36 ms, total: 11.1 ms\n",
      "Wall time: 9.39 ms\n"
     ]
    }
   ],
   "source": [
    "%%time\n",
    "\n",
    "seq.fit(res)\n",
    "out_seq = seq.transform(res)"
   ]
  },
  {
   "cell_type": "code",
   "execution_count": 27,
   "id": "680a9970",
   "metadata": {},
   "outputs": [
    {
     "name": "stdout",
     "output_type": "stream",
     "text": [
      "CPU times: user 377 µs, sys: 19 µs, total: 396 µs\n",
      "Wall time: 401 µs\n"
     ]
    }
   ],
   "source": [
    "%%time\n",
    "\n",
    "seq_gpu.fit(res_gpu)\n",
    "out_seq_gpu = seq_gpu.transform(res_gpu)\n"
   ]
  },
  {
   "cell_type": "code",
   "execution_count": 24,
   "id": "64c41478",
   "metadata": {},
   "outputs": [
    {
     "name": "stdout",
     "output_type": "stream",
     "text": [
      "CPU times: user 4 µs, sys: 0 ns, total: 4 µs\n",
      "Wall time: 6.68 µs\n"
     ]
    }
   ],
   "source": [
    "%%time\n",
    "\n",
    "#seq_gpu.fit(res_mgpu)\n",
    "#out_seq_mgpu = seq_gpu.transform(res_mgpu)"
   ]
  },
  {
   "cell_type": "code",
   "execution_count": null,
   "id": "bd199409",
   "metadata": {},
   "outputs": [],
   "source": []
  },
  {
   "cell_type": "code",
   "execution_count": null,
   "id": "a34feedd",
   "metadata": {},
   "outputs": [],
   "source": []
  },
  {
   "cell_type": "code",
   "execution_count": null,
   "id": "4eb26948",
   "metadata": {},
   "outputs": [],
   "source": []
  },
  {
   "cell_type": "code",
   "execution_count": null,
   "id": "473dab7b",
   "metadata": {},
   "outputs": [],
   "source": []
  },
  {
   "cell_type": "code",
   "execution_count": null,
   "id": "66c4e1ac",
   "metadata": {},
   "outputs": [],
   "source": []
  },
  {
   "cell_type": "code",
   "execution_count": null,
   "id": "037e6806",
   "metadata": {},
   "outputs": [],
   "source": []
  },
  {
   "cell_type": "code",
   "execution_count": null,
   "id": "d8a27462",
   "metadata": {},
   "outputs": [],
   "source": []
  },
  {
   "cell_type": "code",
   "execution_count": null,
   "id": "b8b72f25",
   "metadata": {},
   "outputs": [],
   "source": []
  },
  {
   "cell_type": "code",
   "execution_count": null,
   "id": "624bbc7e",
   "metadata": {},
   "outputs": [],
   "source": []
  },
  {
   "cell_type": "code",
   "execution_count": null,
   "id": "ecd6bdfc",
   "metadata": {},
   "outputs": [],
   "source": []
  }
 ],
 "metadata": {
  "kernelspec": {
   "display_name": "rapids-22.10",
   "language": "python",
   "name": "rapids-22.10"
  },
  "language_info": {
   "codemirror_mode": {
    "name": "ipython",
    "version": 3
   },
   "file_extension": ".py",
   "mimetype": "text/x-python",
   "name": "python",
   "nbconvert_exporter": "python",
   "pygments_lexer": "ipython3",
   "version": "3.9.13"
  }
 },
 "nbformat": 4,
 "nbformat_minor": 5
}
