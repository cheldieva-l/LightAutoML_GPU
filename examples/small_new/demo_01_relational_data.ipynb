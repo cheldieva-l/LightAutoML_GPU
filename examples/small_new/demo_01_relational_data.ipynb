{
 "cells": [
  {
   "cell_type": "code",
   "execution_count": 1,
   "id": "4a75e00d",
   "metadata": {},
   "outputs": [],
   "source": [
    "from lightautoml_gpu.dataset.seq_np_pd_dataset import SeqNumpyPandasDataset\n",
    "from lightautoml_gpu.reader.seq import IDSInd, TopInd\n",
    "from lightautoml_gpu.reader.base import DictToPandasSeqReader\n",
    "from lightautoml_gpu.tasks import Task\n",
    "import pandas as pd\n",
    "import numpy as np\n",
    "from lightautoml_gpu.automl.base import AutoML\n",
    "from lightautoml_gpu.ml_algo.boost_lgbm import BoostLGBM\n",
    "from lightautoml_gpu.ml_algo.boost_cb import BoostCB\n",
    "\n",
    "from lightautoml_gpu.pipelines.features.lgb_pipeline import LGBSimpleFeatures, LGBSeqSimpleFeatures, LGBMultiSeqSimpleFeatures\n",
    "from lightautoml_gpu.pipelines.ml.base import MLPipeline\n",
    "\n",
    "from lightautoml_gpu.automl.gpu.blend_gpu import WeightedBlenderGPU\n",
    "from lightautoml_gpu.automl.blend import WeightedBlender\n",
    "\n",
    "import numpy as np"
   ]
  },
  {
   "cell_type": "code",
   "execution_count": 2,
   "id": "378deeba",
   "metadata": {},
   "outputs": [],
   "source": [
    "import pandas as pd\n",
    "import numpy as np\n",
    "\n",
    "DATA_FOLDER = '../../data/small_new/relational_data'\n",
    "\n",
    "fulfilment_center_info = pd.read_csv(f'{DATA_FOLDER}/fulfilment_center_info.csv')\n",
    "meal_info = pd.read_csv(f'{DATA_FOLDER}/meal_info.csv')\n",
    "train = pd.read_csv(f'{DATA_FOLDER}/train.csv')\n",
    "\n",
    "val = 0.05\n"
   ]
  },
  {
   "cell_type": "code",
   "execution_count": 3,
   "id": "5cbd0d9f",
   "metadata": {},
   "outputs": [],
   "source": [
    "seq_params = {\n",
    "              'fulfilment_center_info':{'case': 'ids',\n",
    "                       'params': {},\n",
    "                       'scheme': {'to': 'plain', 'from_id': 'center_id', 'to_id': 'center_id'},\n",
    "                          },\n",
    "              'meal_info':{'case': 'ids',\n",
    "                       'params': {},\n",
    "                       'scheme': {'to': 'plain', 'from_id': 'meal_id', 'to_id': 'meal_id'},\n",
    "                          },\n",
    "              }\n",
    "seq_data = {'fulfilment_center_info': fulfilment_center_info[['center_id',\n",
    "                                                              'city_code',\n",
    "                                                              'region_code',\n",
    "                                                              'op_area']],\n",
    "       'meal_info': meal_info              \n",
    "       }\n",
    "\n",
    "X_train = {'plain':train.sample(frac=0.05).reset_index(drop=True) , \n",
    "           'seq': seq_data\n",
    "          }\n",
    "\n",
    "task = Task('reg', metric='mae')\n",
    "\n",
    "roles={'target': 'num_orders'}\n",
    "\n",
    "\n"
   ]
  },
  {
   "cell_type": "code",
   "execution_count": 4,
   "id": "59f34c68",
   "metadata": {},
   "outputs": [],
   "source": [
    "task = Task('reg', metric='mae')\n",
    "roles={'target': 'num_orders'}\n",
    "reader = DictToPandasSeqReader(task=task, seq_params=seq_params)\n",
    "\n",
    "feats = LGBMultiSeqSimpleFeatures()\n",
    "model = BoostLGBM()\n",
    "pipeline_lvl1 = MLPipeline([BoostLGBM(), BoostCB()], pre_selection=None, features_pipeline=feats, post_selection=None)\n",
    "\n",
    "automl = AutoML(reader, [\n",
    "    [pipeline_lvl1],\n",
    "], skip_conn=False, blender=WeightedBlender())"
   ]
  },
  {
   "cell_type": "code",
   "execution_count": 5,
   "id": "896f7e95",
   "metadata": {},
   "outputs": [
    {
     "name": "stdout",
     "output_type": "stream",
     "text": [
      "[13:03:31] Feats was rejected during automatic roles guess: []\n",
      "[13:03:31] Layer \u001b[1m1\u001b[0m train process start. Time left 9999999996.28 secs\n",
      "[13:03:31] Start fitting \u001b[1mLvl_0_Pipe_0_Mod_0_LightGBM\u001b[0m ...\n",
      "[13:03:31] ===== Start working with \u001b[1mfold 0\u001b[0m for \u001b[1mLvl_0_Pipe_0_Mod_0_LightGBM\u001b[0m =====\n",
      "[13:03:31] Training until validation scores don't improve for 100 rounds\n",
      "[13:03:32] ===== Start working with \u001b[1mfold 1\u001b[0m for \u001b[1mLvl_0_Pipe_0_Mod_0_LightGBM\u001b[0m =====\n",
      "[13:03:32] Training until validation scores don't improve for 100 rounds\n",
      "[13:03:33] ===== Start working with \u001b[1mfold 2\u001b[0m for \u001b[1mLvl_0_Pipe_0_Mod_0_LightGBM\u001b[0m =====\n",
      "[13:03:33] Training until validation scores don't improve for 100 rounds\n",
      "[13:03:34] ===== Start working with \u001b[1mfold 3\u001b[0m for \u001b[1mLvl_0_Pipe_0_Mod_0_LightGBM\u001b[0m =====\n",
      "[13:03:34] Training until validation scores don't improve for 100 rounds\n",
      "[13:03:35] ===== Start working with \u001b[1mfold 4\u001b[0m for \u001b[1mLvl_0_Pipe_0_Mod_0_LightGBM\u001b[0m =====\n",
      "[13:03:35] Training until validation scores don't improve for 100 rounds\n",
      "[13:03:36] Fitting \u001b[1mLvl_0_Pipe_0_Mod_0_LightGBM\u001b[0m finished. score = \u001b[1m-107.4580233858822\u001b[0m\n",
      "[13:03:36] \u001b[1mLvl_0_Pipe_0_Mod_0_LightGBM\u001b[0m fitting and predicting completed\n",
      "[13:03:36] Start fitting \u001b[1mLvl_0_Pipe_0_Mod_1_CatBoost\u001b[0m ...\n",
      "[13:03:36] ===== Start working with \u001b[1mfold 0\u001b[0m for \u001b[1mLvl_0_Pipe_0_Mod_1_CatBoost\u001b[0m =====\n",
      "[13:03:36] 0:\tlearn: 224.7387680\ttest: 227.4682826\tbest: 227.4682826 (0)\ttotal: 51.5ms\tremaining: 2m 34s\n"
     ]
    },
    {
     "name": "stderr",
     "output_type": "stream",
     "text": [
      "/home/rishat/miniconda3/envs/rapids-22.10/lib/python3.9/site-packages/catboost/core.py:1419: FutureWarning: iteritems is deprecated and will be removed in a future version. Use .items instead.\n",
      "  self._init_pool(data, label, cat_features, text_features, embedding_features, embedding_features_data, pairs, weight,\n",
      "/home/rishat/miniconda3/envs/rapids-22.10/lib/python3.9/site-packages/catboost/core.py:1419: FutureWarning: iteritems is deprecated and will be removed in a future version. Use .items instead.\n",
      "  self._init_pool(data, label, cat_features, text_features, embedding_features, embedding_features_data, pairs, weight,\n"
     ]
    },
    {
     "name": "stdout",
     "output_type": "stream",
     "text": [
      "[13:03:38] bestTest = 135.7178128\n",
      "[13:03:38] bestIteration = 2999\n",
      "[13:03:38] ===== Start working with \u001b[1mfold 1\u001b[0m for \u001b[1mLvl_0_Pipe_0_Mod_1_CatBoost\u001b[0m =====\n",
      "[13:03:38] 0:\tlearn: 224.5952860\ttest: 229.4035389\tbest: 229.4035389 (0)\ttotal: 1.16ms\tremaining: 3.48s\n"
     ]
    },
    {
     "name": "stderr",
     "output_type": "stream",
     "text": [
      "/home/rishat/miniconda3/envs/rapids-22.10/lib/python3.9/site-packages/catboost/core.py:1419: FutureWarning: iteritems is deprecated and will be removed in a future version. Use .items instead.\n",
      "  self._init_pool(data, label, cat_features, text_features, embedding_features, embedding_features_data, pairs, weight,\n",
      "/home/rishat/miniconda3/envs/rapids-22.10/lib/python3.9/site-packages/catboost/core.py:1419: FutureWarning: iteritems is deprecated and will be removed in a future version. Use .items instead.\n",
      "  self._init_pool(data, label, cat_features, text_features, embedding_features, embedding_features_data, pairs, weight,\n"
     ]
    },
    {
     "name": "stdout",
     "output_type": "stream",
     "text": [
      "[13:03:41] bestTest = 132.8503553\n",
      "[13:03:41] bestIteration = 2997\n",
      "[13:03:41] Shrink model to first 2998 iterations.\n",
      "[13:03:41] ===== Start working with \u001b[1mfold 2\u001b[0m for \u001b[1mLvl_0_Pipe_0_Mod_1_CatBoost\u001b[0m =====\n",
      "[13:03:41] 0:\tlearn: 227.9923933\ttest: 219.5577247\tbest: 219.5577247 (0)\ttotal: 959us\tremaining: 2.88s\n"
     ]
    },
    {
     "name": "stderr",
     "output_type": "stream",
     "text": [
      "/home/rishat/miniconda3/envs/rapids-22.10/lib/python3.9/site-packages/catboost/core.py:1419: FutureWarning: iteritems is deprecated and will be removed in a future version. Use .items instead.\n",
      "  self._init_pool(data, label, cat_features, text_features, embedding_features, embedding_features_data, pairs, weight,\n",
      "/home/rishat/miniconda3/envs/rapids-22.10/lib/python3.9/site-packages/catboost/core.py:1419: FutureWarning: iteritems is deprecated and will be removed in a future version. Use .items instead.\n",
      "  self._init_pool(data, label, cat_features, text_features, embedding_features, embedding_features_data, pairs, weight,\n"
     ]
    },
    {
     "name": "stdout",
     "output_type": "stream",
     "text": [
      "[13:03:43] Stopped by overfitting detector  (100 iterations wait)\n",
      "[13:03:43] bestTest = 126.968793\n",
      "[13:03:43] bestIteration = 2759\n",
      "[13:03:43] Shrink model to first 2760 iterations.\n",
      "[13:03:43] ===== Start working with \u001b[1mfold 3\u001b[0m for \u001b[1mLvl_0_Pipe_0_Mod_1_CatBoost\u001b[0m =====\n",
      "[13:03:43] 0:\tlearn: 225.1695284\ttest: 225.3056758\tbest: 225.3056758 (0)\ttotal: 827us\tremaining: 2.48s\n"
     ]
    },
    {
     "name": "stderr",
     "output_type": "stream",
     "text": [
      "/home/rishat/miniconda3/envs/rapids-22.10/lib/python3.9/site-packages/catboost/core.py:1419: FutureWarning: iteritems is deprecated and will be removed in a future version. Use .items instead.\n",
      "  self._init_pool(data, label, cat_features, text_features, embedding_features, embedding_features_data, pairs, weight,\n",
      "/home/rishat/miniconda3/envs/rapids-22.10/lib/python3.9/site-packages/catboost/core.py:1419: FutureWarning: iteritems is deprecated and will be removed in a future version. Use .items instead.\n",
      "  self._init_pool(data, label, cat_features, text_features, embedding_features, embedding_features_data, pairs, weight,\n"
     ]
    },
    {
     "name": "stdout",
     "output_type": "stream",
     "text": [
      "[13:03:45] bestTest = 133.6852218\n",
      "[13:03:45] bestIteration = 2994\n",
      "[13:03:45] Shrink model to first 2995 iterations.\n",
      "[13:03:45] ===== Start working with \u001b[1mfold 4\u001b[0m for \u001b[1mLvl_0_Pipe_0_Mod_1_CatBoost\u001b[0m =====\n",
      "[13:03:45] 0:\tlearn: 225.2066221\ttest: 226.1514878\tbest: 226.1514878 (0)\ttotal: 1.05ms\tremaining: 3.15s\n"
     ]
    },
    {
     "name": "stderr",
     "output_type": "stream",
     "text": [
      "/home/rishat/miniconda3/envs/rapids-22.10/lib/python3.9/site-packages/catboost/core.py:1419: FutureWarning: iteritems is deprecated and will be removed in a future version. Use .items instead.\n",
      "  self._init_pool(data, label, cat_features, text_features, embedding_features, embedding_features_data, pairs, weight,\n",
      "/home/rishat/miniconda3/envs/rapids-22.10/lib/python3.9/site-packages/catboost/core.py:1419: FutureWarning: iteritems is deprecated and will be removed in a future version. Use .items instead.\n",
      "  self._init_pool(data, label, cat_features, text_features, embedding_features, embedding_features_data, pairs, weight,\n"
     ]
    },
    {
     "name": "stdout",
     "output_type": "stream",
     "text": [
      "[13:03:47] bestTest = 132.4022718\n",
      "[13:03:47] bestIteration = 2975\n",
      "[13:03:47] Shrink model to first 2976 iterations.\n",
      "[13:03:47] Fitting \u001b[1mLvl_0_Pipe_0_Mod_1_CatBoost\u001b[0m finished. score = \u001b[1m-132.32506360388444\u001b[0m\n",
      "[13:03:47] \u001b[1mLvl_0_Pipe_0_Mod_1_CatBoost\u001b[0m fitting and predicting completed\n",
      "[13:03:47] Time left 9999999980.09 secs\n",
      "\n",
      "[13:03:47] \u001b[1mLayer 1 training completed.\u001b[0m\n",
      "\n",
      "[13:03:47] Blending: optimization starts with equal weights and score \u001b[1m-114.18369205569753\u001b[0m\n",
      "[13:03:47] Blending: iteration \u001b[1m0\u001b[0m: score = \u001b[1m-107.39745783308815\u001b[0m, weights = \u001b[1m[0.9334995  0.06650051]\u001b[0m\n",
      "[13:03:47] Blending: iteration \u001b[1m1\u001b[0m: score = \u001b[1m-107.39745783308815\u001b[0m, weights = \u001b[1m[0.9334995  0.06650051]\u001b[0m\n",
      "[13:03:47] Blending: no score update. Terminated\n",
      "\n",
      "CPU times: user 1min, sys: 1.92 s, total: 1min 2s\n",
      "Wall time: 19.9 s\n"
     ]
    }
   ],
   "source": [
    "%%time\n",
    "\n",
    "oof_pred = automl.fit_predict(X_train, roles=roles, verbose=3)\n"
   ]
  },
  {
   "cell_type": "code",
   "execution_count": 6,
   "id": "b04c3723",
   "metadata": {},
   "outputs": [],
   "source": [
    "from lightautoml_gpu.dataset.gpu.gpu_dataset import SeqCudfDataset\n",
    "from lightautoml_gpu.dataset.gpu.gpu_dataset import SeqDaskCudfDataset\n",
    "from lightautoml_gpu.reader.gpu.seq_gpu import IDSIndGPU, TopIndGPU\n",
    "from lightautoml_gpu.reader.gpu.seq_reader_gpu import DictToCudfSeqReader\n",
    "from lightautoml_gpu.reader.gpu.seq_reader_gpu import DictToDaskCudfSeqReader\n",
    "\n",
    "from lightautoml_gpu.ml_algo.gpu.boost_xgb_gpu import BoostXGB\n",
    "from lightautoml_gpu.ml_algo.gpu.boost_cb_gpu import BoostCBGPU\n",
    "\n",
    "from lightautoml_gpu.pipelines.features.gpu.lgb_pipeline_gpu import LGBMultiSeqSimpleFeaturesGPU\n",
    "\n",
    "import cudf\n",
    "import dask_cudf\n",
    "import cupy as cp"
   ]
  },
  {
   "cell_type": "code",
   "execution_count": 7,
   "id": "b2d14a44",
   "metadata": {},
   "outputs": [],
   "source": [
    "task = Task('reg', metric='mae', device='gpu')\n",
    "reader = DictToCudfSeqReader(task=task, seq_params=seq_params, n_jobs=1)\n",
    "\n",
    "feats = LGBMultiSeqSimpleFeaturesGPU()\n",
    "model = BoostCBGPU(gpu_ids=[0])\n",
    "pipeline_lvl1 = MLPipeline([BoostXGB(), BoostCBGPU(gpu_ids=[0])], pre_selection=None, features_pipeline=feats, post_selection=None)\n",
    "\n",
    "automl = AutoML(reader, [\n",
    "    [pipeline_lvl1],\n",
    "], skip_conn=False, blender=WeightedBlenderGPU())"
   ]
  },
  {
   "cell_type": "code",
   "execution_count": 8,
   "id": "e007458e",
   "metadata": {},
   "outputs": [
    {
     "name": "stdout",
     "output_type": "stream",
     "text": [
      "[13:03:49] Feats was rejected during automatic roles guess: []\n",
      "[13:03:49] Layer \u001b[1m1\u001b[0m train process start. Time left 9999999999.39 secs\n",
      "[13:03:50] Start fitting \u001b[1mLvl_0_Pipe_0_Mod_0_XGB\u001b[0m ...\n",
      "[13:03:50] ===== Start working with \u001b[1mfold 0\u001b[0m for \u001b[1mLvl_0_Pipe_0_Mod_0_XGB\u001b[0m (orig) =====\n",
      "[13:04:04] ===== Start working with \u001b[1mfold 1\u001b[0m for \u001b[1mLvl_0_Pipe_0_Mod_0_XGB\u001b[0m (orig) =====\n",
      "[13:04:14] ===== Start working with \u001b[1mfold 2\u001b[0m for \u001b[1mLvl_0_Pipe_0_Mod_0_XGB\u001b[0m (orig) =====\n",
      "[13:04:24] ===== Start working with \u001b[1mfold 3\u001b[0m for \u001b[1mLvl_0_Pipe_0_Mod_0_XGB\u001b[0m (orig) =====\n",
      "[13:04:43] ===== Start working with \u001b[1mfold 4\u001b[0m for \u001b[1mLvl_0_Pipe_0_Mod_0_XGB\u001b[0m (orig) =====\n",
      "[13:04:53] Fitting \u001b[1mLvl_0_Pipe_0_Mod_0_XGB\u001b[0m finished. score = \u001b[1m-105.07485326356658\u001b[0m\n",
      "[13:04:53] \u001b[1mLvl_0_Pipe_0_Mod_0_XGB\u001b[0m fitting and predicting completed\n",
      "[13:04:53] Start fitting \u001b[1mLvl_0_Pipe_0_Mod_1_CatBoostGPU\u001b[0m ...\n",
      "[13:04:53] ===== Start working with \u001b[1mfold 0\u001b[0m for \u001b[1mLvl_0_Pipe_0_Mod_1_CatBoostGPU\u001b[0m (orig) =====\n"
     ]
    },
    {
     "name": "stderr",
     "output_type": "stream",
     "text": [
      "/home/rishat/miniconda3/envs/rapids-22.10/lib/python3.9/site-packages/catboost/core.py:1419: FutureWarning: iteritems is deprecated and will be removed in a future version. Use .items instead.\n",
      "  self._init_pool(data, label, cat_features, text_features, embedding_features, embedding_features_data, pairs, weight,\n",
      "/home/rishat/miniconda3/envs/rapids-22.10/lib/python3.9/site-packages/catboost/core.py:1419: FutureWarning: iteritems is deprecated and will be removed in a future version. Use .items instead.\n",
      "  self._init_pool(data, label, cat_features, text_features, embedding_features, embedding_features_data, pairs, weight,\n",
      "Warning: less than 75% gpu memory available for training. Free: 2422.3125 Total: 3912.8125\n",
      "Default metric period is 5 because MAE is/are not implemented for GPU\n"
     ]
    },
    {
     "name": "stdout",
     "output_type": "stream",
     "text": [
      "[13:04:58] ===== Start working with \u001b[1mfold 1\u001b[0m for \u001b[1mLvl_0_Pipe_0_Mod_1_CatBoostGPU\u001b[0m (orig) =====\n"
     ]
    },
    {
     "name": "stderr",
     "output_type": "stream",
     "text": [
      "/home/rishat/miniconda3/envs/rapids-22.10/lib/python3.9/site-packages/catboost/core.py:1419: FutureWarning: iteritems is deprecated and will be removed in a future version. Use .items instead.\n",
      "  self._init_pool(data, label, cat_features, text_features, embedding_features, embedding_features_data, pairs, weight,\n",
      "/home/rishat/miniconda3/envs/rapids-22.10/lib/python3.9/site-packages/catboost/core.py:1419: FutureWarning: iteritems is deprecated and will be removed in a future version. Use .items instead.\n",
      "  self._init_pool(data, label, cat_features, text_features, embedding_features, embedding_features_data, pairs, weight,\n",
      "Warning: less than 75% gpu memory available for training. Free: 2422.3125 Total: 3912.8125\n",
      "Default metric period is 5 because MAE is/are not implemented for GPU\n"
     ]
    },
    {
     "name": "stdout",
     "output_type": "stream",
     "text": [
      "[13:05:02] ===== Start working with \u001b[1mfold 2\u001b[0m for \u001b[1mLvl_0_Pipe_0_Mod_1_CatBoostGPU\u001b[0m (orig) =====\n"
     ]
    },
    {
     "name": "stderr",
     "output_type": "stream",
     "text": [
      "/home/rishat/miniconda3/envs/rapids-22.10/lib/python3.9/site-packages/catboost/core.py:1419: FutureWarning: iteritems is deprecated and will be removed in a future version. Use .items instead.\n",
      "  self._init_pool(data, label, cat_features, text_features, embedding_features, embedding_features_data, pairs, weight,\n",
      "/home/rishat/miniconda3/envs/rapids-22.10/lib/python3.9/site-packages/catboost/core.py:1419: FutureWarning: iteritems is deprecated and will be removed in a future version. Use .items instead.\n",
      "  self._init_pool(data, label, cat_features, text_features, embedding_features, embedding_features_data, pairs, weight,\n",
      "Warning: less than 75% gpu memory available for training. Free: 2422.3125 Total: 3912.8125\n",
      "Default metric period is 5 because MAE is/are not implemented for GPU\n"
     ]
    },
    {
     "name": "stdout",
     "output_type": "stream",
     "text": [
      "[13:05:07] ===== Start working with \u001b[1mfold 3\u001b[0m for \u001b[1mLvl_0_Pipe_0_Mod_1_CatBoostGPU\u001b[0m (orig) =====\n"
     ]
    },
    {
     "name": "stderr",
     "output_type": "stream",
     "text": [
      "/home/rishat/miniconda3/envs/rapids-22.10/lib/python3.9/site-packages/catboost/core.py:1419: FutureWarning: iteritems is deprecated and will be removed in a future version. Use .items instead.\n",
      "  self._init_pool(data, label, cat_features, text_features, embedding_features, embedding_features_data, pairs, weight,\n",
      "/home/rishat/miniconda3/envs/rapids-22.10/lib/python3.9/site-packages/catboost/core.py:1419: FutureWarning: iteritems is deprecated and will be removed in a future version. Use .items instead.\n",
      "  self._init_pool(data, label, cat_features, text_features, embedding_features, embedding_features_data, pairs, weight,\n",
      "Warning: less than 75% gpu memory available for training. Free: 2422.3125 Total: 3912.8125\n",
      "Default metric period is 5 because MAE is/are not implemented for GPU\n"
     ]
    },
    {
     "name": "stdout",
     "output_type": "stream",
     "text": [
      "[13:05:12] ===== Start working with \u001b[1mfold 4\u001b[0m for \u001b[1mLvl_0_Pipe_0_Mod_1_CatBoostGPU\u001b[0m (orig) =====\n"
     ]
    },
    {
     "name": "stderr",
     "output_type": "stream",
     "text": [
      "/home/rishat/miniconda3/envs/rapids-22.10/lib/python3.9/site-packages/catboost/core.py:1419: FutureWarning: iteritems is deprecated and will be removed in a future version. Use .items instead.\n",
      "  self._init_pool(data, label, cat_features, text_features, embedding_features, embedding_features_data, pairs, weight,\n",
      "/home/rishat/miniconda3/envs/rapids-22.10/lib/python3.9/site-packages/catboost/core.py:1419: FutureWarning: iteritems is deprecated and will be removed in a future version. Use .items instead.\n",
      "  self._init_pool(data, label, cat_features, text_features, embedding_features, embedding_features_data, pairs, weight,\n",
      "Warning: less than 75% gpu memory available for training. Free: 2422.3125 Total: 3912.8125\n",
      "Default metric period is 5 because MAE is/are not implemented for GPU\n"
     ]
    },
    {
     "name": "stdout",
     "output_type": "stream",
     "text": [
      "[13:05:17] Fitting \u001b[1mLvl_0_Pipe_0_Mod_1_CatBoostGPU\u001b[0m finished. score = \u001b[1m-131.18946181867702\u001b[0m\n",
      "[13:05:17] \u001b[1mLvl_0_Pipe_0_Mod_1_CatBoostGPU\u001b[0m fitting and predicting completed\n",
      "[13:05:17] Time left 9999999912.01 secs\n",
      "\n",
      "[13:05:17] \u001b[1mLayer 1 training completed.\u001b[0m\n",
      "\n",
      "[13:05:17] Blending: Optimization starts with equal weights and score -111.08268116786049\n",
      "[13:05:17] Blending, iter 0: score = -104.7713256954772, weights = [0.91584045 0.08415958]\n",
      "[13:05:17] Blending, iter 1: score = -104.7713256954772, weights = [0.91584045 0.08415958]\n",
      "[13:05:17] No score update. Terminated\n"
     ]
    }
   ],
   "source": [
    "oof_pred_gpu = automl.fit_predict(X_train, roles=roles, verbose=3)"
   ]
  },
  {
   "cell_type": "code",
   "execution_count": 9,
   "id": "76f879f7",
   "metadata": {},
   "outputs": [
    {
     "name": "stderr",
     "output_type": "stream",
     "text": [
      "/home/rishat/miniconda3/envs/rapids-22.10/lib/python3.9/site-packages/catboost/core.py:1419: FutureWarning: iteritems is deprecated and will be removed in a future version. Use .items instead.\n",
      "  self._init_pool(data, label, cat_features, text_features, embedding_features, embedding_features_data, pairs, weight,\n",
      "/home/rishat/miniconda3/envs/rapids-22.10/lib/python3.9/site-packages/catboost/core.py:1419: FutureWarning: iteritems is deprecated and will be removed in a future version. Use .items instead.\n",
      "  self._init_pool(data, label, cat_features, text_features, embedding_features, embedding_features_data, pairs, weight,\n",
      "/home/rishat/miniconda3/envs/rapids-22.10/lib/python3.9/site-packages/catboost/core.py:1419: FutureWarning: iteritems is deprecated and will be removed in a future version. Use .items instead.\n",
      "  self._init_pool(data, label, cat_features, text_features, embedding_features, embedding_features_data, pairs, weight,\n",
      "/home/rishat/miniconda3/envs/rapids-22.10/lib/python3.9/site-packages/catboost/core.py:1419: FutureWarning: iteritems is deprecated and will be removed in a future version. Use .items instead.\n",
      "  self._init_pool(data, label, cat_features, text_features, embedding_features, embedding_features_data, pairs, weight,\n",
      "/home/rishat/miniconda3/envs/rapids-22.10/lib/python3.9/site-packages/catboost/core.py:1419: FutureWarning: iteritems is deprecated and will be removed in a future version. Use .items instead.\n",
      "  self._init_pool(data, label, cat_features, text_features, embedding_features, embedding_features_data, pairs, weight,\n"
     ]
    }
   ],
   "source": [
    "gpu_inf = automl.predict(X_train)"
   ]
  },
  {
   "cell_type": "code",
   "execution_count": 10,
   "id": "51a68f47",
   "metadata": {},
   "outputs": [],
   "source": [
    "automl.to_cpu()"
   ]
  },
  {
   "cell_type": "code",
   "execution_count": 11,
   "id": "8e376d50",
   "metadata": {},
   "outputs": [
    {
     "name": "stderr",
     "output_type": "stream",
     "text": [
      "/home/rishat/miniconda3/envs/rapids-22.10/lib/python3.9/site-packages/catboost/core.py:1419: FutureWarning: iteritems is deprecated and will be removed in a future version. Use .items instead.\n",
      "  self._init_pool(data, label, cat_features, text_features, embedding_features, embedding_features_data, pairs, weight,\n",
      "/home/rishat/miniconda3/envs/rapids-22.10/lib/python3.9/site-packages/catboost/core.py:1419: FutureWarning: iteritems is deprecated and will be removed in a future version. Use .items instead.\n",
      "  self._init_pool(data, label, cat_features, text_features, embedding_features, embedding_features_data, pairs, weight,\n",
      "/home/rishat/miniconda3/envs/rapids-22.10/lib/python3.9/site-packages/catboost/core.py:1419: FutureWarning: iteritems is deprecated and will be removed in a future version. Use .items instead.\n",
      "  self._init_pool(data, label, cat_features, text_features, embedding_features, embedding_features_data, pairs, weight,\n",
      "/home/rishat/miniconda3/envs/rapids-22.10/lib/python3.9/site-packages/catboost/core.py:1419: FutureWarning: iteritems is deprecated and will be removed in a future version. Use .items instead.\n",
      "  self._init_pool(data, label, cat_features, text_features, embedding_features, embedding_features_data, pairs, weight,\n",
      "/home/rishat/miniconda3/envs/rapids-22.10/lib/python3.9/site-packages/catboost/core.py:1419: FutureWarning: iteritems is deprecated and will be removed in a future version. Use .items instead.\n",
      "  self._init_pool(data, label, cat_features, text_features, embedding_features, embedding_features_data, pairs, weight,\n"
     ]
    }
   ],
   "source": [
    "cpu_inf = automl.predict(X_train)"
   ]
  },
  {
   "cell_type": "code",
   "execution_count": 12,
   "id": "1d962038",
   "metadata": {},
   "outputs": [],
   "source": [
    "task = Task('reg', metric='mae', device='mgpu')\n",
    "reader = DictToDaskCudfSeqReader(task=task, seq_params=seq_params, n_jobs=1)\n",
    "\n",
    "feats = LGBMultiSeqSimpleFeaturesGPU()\n",
    "model = BoostCBGPU(gpu_ids=[0])\n",
    "pipeline_lvl1 = MLPipeline([BoostXGB(), BoostCBGPU(gpu_ids=[0])], pre_selection=None, features_pipeline=feats, post_selection=None)\n",
    "\n",
    "automl = AutoML(reader, [\n",
    "    [pipeline_lvl1],\n",
    "], skip_conn=False, blender = WeightedBlenderGPU())"
   ]
  },
  {
   "cell_type": "code",
   "execution_count": 13,
   "id": "90df6393",
   "metadata": {},
   "outputs": [
    {
     "name": "stdout",
     "output_type": "stream",
     "text": [
      "[13:05:20] Feats was rejected during automatic roles guess: []\n",
      "[13:05:21] Layer \u001b[1m1\u001b[0m train process start. Time left 9999999998.80 secs\n"
     ]
    },
    {
     "name": "stderr",
     "output_type": "stream",
     "text": [
      "/home/rishat/miniconda3/envs/rapids-22.10/lib/python3.9/site-packages/dask/dataframe/core.py:4948: UserWarning: New index has same name as existing, this is a no-op.\n",
      "  warnings.warn(\n",
      "/home/rishat/miniconda3/envs/rapids-22.10/lib/python3.9/site-packages/dask/dataframe/core.py:4948: UserWarning: New index has same name as existing, this is a no-op.\n",
      "  warnings.warn(\n"
     ]
    },
    {
     "name": "stdout",
     "output_type": "stream",
     "text": [
      "[13:05:22] Start fitting \u001b[1mLvl_0_Pipe_0_Mod_0_XGB\u001b[0m ...\n",
      "[13:05:22] ===== Start working with \u001b[1mfold 0\u001b[0m for \u001b[1mLvl_0_Pipe_0_Mod_0_XGB\u001b[0m (orig) =====\n",
      "[13:05:36] ===== Start working with \u001b[1mfold 1\u001b[0m for \u001b[1mLvl_0_Pipe_0_Mod_0_XGB\u001b[0m (orig) =====\n",
      "[13:05:46] ===== Start working with \u001b[1mfold 2\u001b[0m for \u001b[1mLvl_0_Pipe_0_Mod_0_XGB\u001b[0m (orig) =====\n",
      "[13:05:57] ===== Start working with \u001b[1mfold 3\u001b[0m for \u001b[1mLvl_0_Pipe_0_Mod_0_XGB\u001b[0m (orig) =====\n",
      "[13:06:16] ===== Start working with \u001b[1mfold 4\u001b[0m for \u001b[1mLvl_0_Pipe_0_Mod_0_XGB\u001b[0m (orig) =====\n",
      "[13:06:26] Fitting \u001b[1mLvl_0_Pipe_0_Mod_0_XGB\u001b[0m finished. score = \u001b[1m-105.07485326356658\u001b[0m\n",
      "[13:06:26] \u001b[1mLvl_0_Pipe_0_Mod_0_XGB\u001b[0m fitting and predicting completed\n",
      "[13:06:26] Start fitting \u001b[1mLvl_0_Pipe_0_Mod_1_CatBoostGPU\u001b[0m ...\n",
      "[13:06:26] ===== Start working with \u001b[1mfold 0\u001b[0m for \u001b[1mLvl_0_Pipe_0_Mod_1_CatBoostGPU\u001b[0m (orig) =====\n"
     ]
    },
    {
     "name": "stderr",
     "output_type": "stream",
     "text": [
      "/home/rishat/miniconda3/envs/rapids-22.10/lib/python3.9/site-packages/catboost/core.py:1419: FutureWarning: iteritems is deprecated and will be removed in a future version. Use .items instead.\n",
      "  self._init_pool(data, label, cat_features, text_features, embedding_features, embedding_features_data, pairs, weight,\n",
      "/home/rishat/miniconda3/envs/rapids-22.10/lib/python3.9/site-packages/catboost/core.py:1419: FutureWarning: iteritems is deprecated and will be removed in a future version. Use .items instead.\n",
      "  self._init_pool(data, label, cat_features, text_features, embedding_features, embedding_features_data, pairs, weight,\n",
      "Warning: less than 75% gpu memory available for training. Free: 2412.3125 Total: 3912.8125\n",
      "Default metric period is 5 because MAE is/are not implemented for GPU\n"
     ]
    },
    {
     "name": "stdout",
     "output_type": "stream",
     "text": [
      "[13:06:31] ===== Start working with \u001b[1mfold 1\u001b[0m for \u001b[1mLvl_0_Pipe_0_Mod_1_CatBoostGPU\u001b[0m (orig) =====\n"
     ]
    },
    {
     "name": "stderr",
     "output_type": "stream",
     "text": [
      "/home/rishat/miniconda3/envs/rapids-22.10/lib/python3.9/site-packages/catboost/core.py:1419: FutureWarning: iteritems is deprecated and will be removed in a future version. Use .items instead.\n",
      "  self._init_pool(data, label, cat_features, text_features, embedding_features, embedding_features_data, pairs, weight,\n",
      "/home/rishat/miniconda3/envs/rapids-22.10/lib/python3.9/site-packages/catboost/core.py:1419: FutureWarning: iteritems is deprecated and will be removed in a future version. Use .items instead.\n",
      "  self._init_pool(data, label, cat_features, text_features, embedding_features, embedding_features_data, pairs, weight,\n",
      "Warning: less than 75% gpu memory available for training. Free: 2410.3125 Total: 3912.8125\n",
      "Default metric period is 5 because MAE is/are not implemented for GPU\n"
     ]
    },
    {
     "name": "stdout",
     "output_type": "stream",
     "text": [
      "[13:06:37] ===== Start working with \u001b[1mfold 2\u001b[0m for \u001b[1mLvl_0_Pipe_0_Mod_1_CatBoostGPU\u001b[0m (orig) =====\n"
     ]
    },
    {
     "name": "stderr",
     "output_type": "stream",
     "text": [
      "/home/rishat/miniconda3/envs/rapids-22.10/lib/python3.9/site-packages/catboost/core.py:1419: FutureWarning: iteritems is deprecated and will be removed in a future version. Use .items instead.\n",
      "  self._init_pool(data, label, cat_features, text_features, embedding_features, embedding_features_data, pairs, weight,\n",
      "/home/rishat/miniconda3/envs/rapids-22.10/lib/python3.9/site-packages/catboost/core.py:1419: FutureWarning: iteritems is deprecated and will be removed in a future version. Use .items instead.\n",
      "  self._init_pool(data, label, cat_features, text_features, embedding_features, embedding_features_data, pairs, weight,\n",
      "Warning: less than 75% gpu memory available for training. Free: 2408.3125 Total: 3912.8125\n",
      "Default metric period is 5 because MAE is/are not implemented for GPU\n"
     ]
    },
    {
     "name": "stdout",
     "output_type": "stream",
     "text": [
      "[13:06:41] ===== Start working with \u001b[1mfold 3\u001b[0m for \u001b[1mLvl_0_Pipe_0_Mod_1_CatBoostGPU\u001b[0m (orig) =====\n"
     ]
    },
    {
     "name": "stderr",
     "output_type": "stream",
     "text": [
      "/home/rishat/miniconda3/envs/rapids-22.10/lib/python3.9/site-packages/catboost/core.py:1419: FutureWarning: iteritems is deprecated and will be removed in a future version. Use .items instead.\n",
      "  self._init_pool(data, label, cat_features, text_features, embedding_features, embedding_features_data, pairs, weight,\n",
      "/home/rishat/miniconda3/envs/rapids-22.10/lib/python3.9/site-packages/catboost/core.py:1419: FutureWarning: iteritems is deprecated and will be removed in a future version. Use .items instead.\n",
      "  self._init_pool(data, label, cat_features, text_features, embedding_features, embedding_features_data, pairs, weight,\n",
      "Warning: less than 75% gpu memory available for training. Free: 2408.3125 Total: 3912.8125\n",
      "Default metric period is 5 because MAE is/are not implemented for GPU\n"
     ]
    },
    {
     "name": "stdout",
     "output_type": "stream",
     "text": [
      "[13:06:46] ===== Start working with \u001b[1mfold 4\u001b[0m for \u001b[1mLvl_0_Pipe_0_Mod_1_CatBoostGPU\u001b[0m (orig) =====\n"
     ]
    },
    {
     "name": "stderr",
     "output_type": "stream",
     "text": [
      "/home/rishat/miniconda3/envs/rapids-22.10/lib/python3.9/site-packages/catboost/core.py:1419: FutureWarning: iteritems is deprecated and will be removed in a future version. Use .items instead.\n",
      "  self._init_pool(data, label, cat_features, text_features, embedding_features, embedding_features_data, pairs, weight,\n",
      "/home/rishat/miniconda3/envs/rapids-22.10/lib/python3.9/site-packages/catboost/core.py:1419: FutureWarning: iteritems is deprecated and will be removed in a future version. Use .items instead.\n",
      "  self._init_pool(data, label, cat_features, text_features, embedding_features, embedding_features_data, pairs, weight,\n",
      "Warning: less than 75% gpu memory available for training. Free: 2406.3125 Total: 3912.8125\n",
      "Default metric period is 5 because MAE is/are not implemented for GPU\n"
     ]
    },
    {
     "name": "stdout",
     "output_type": "stream",
     "text": [
      "[13:06:51] Fitting \u001b[1mLvl_0_Pipe_0_Mod_1_CatBoostGPU\u001b[0m finished. score = \u001b[1m-131.18946181867702\u001b[0m\n",
      "[13:06:51] \u001b[1mLvl_0_Pipe_0_Mod_1_CatBoostGPU\u001b[0m fitting and predicting completed\n",
      "[13:06:51] Time left 9999999908.32 secs\n",
      "\n",
      "[13:06:51] \u001b[1mLayer 1 training completed.\u001b[0m\n",
      "\n",
      "[13:06:51] Blending: Optimization starts with equal weights and score -111.08268116786049\n",
      "[13:06:51] Blending, iter 0: score = -104.7713256954772, weights = [0.91584045 0.08415958]\n",
      "[13:06:51] Blending, iter 1: score = -104.7713256954772, weights = [0.91584045 0.08415958]\n",
      "[13:06:51] No score update. Terminated\n"
     ]
    }
   ],
   "source": [
    "oof_pred_mgpu = automl.fit_predict(X_train, roles=roles, verbose=3)"
   ]
  },
  {
   "cell_type": "code",
   "execution_count": 14,
   "id": "aabbf0ac",
   "metadata": {},
   "outputs": [
    {
     "name": "stdout",
     "output_type": "stream",
     "text": [
      "[[423.5747    50.790325  43.70079  ... 113.28612  204.9415   127.35535 ]]\n",
      "[[424.98767   49.410744  43.590008 ...  79.477394 204.9415   119.236984]]\n",
      "[[360.36606   95.90548   80.62511  ...  44.836693 230.78961   92.04822 ]]\n",
      "[[439.08554   63.420597 103.57893  ...  41.17908  246.08334   84.58303 ]]\n",
      "[[360.36606   95.90548   80.62511  ...  44.836693 230.78961   92.04822 ]]\n"
     ]
    }
   ],
   "source": [
    "print(cpu_inf.data.T)\n",
    "print(gpu_inf.data.T)\n",
    "print(oof_pred_gpu.data.T)\n",
    "print(oof_pred.data.T)\n",
    "print(oof_pred_mgpu.data.T)"
   ]
  },
  {
   "cell_type": "code",
   "execution_count": null,
   "id": "0aac220a",
   "metadata": {},
   "outputs": [],
   "source": []
  },
  {
   "cell_type": "code",
   "execution_count": null,
   "id": "1c140f65",
   "metadata": {},
   "outputs": [],
   "source": []
  },
  {
   "cell_type": "code",
   "execution_count": null,
   "id": "7607a765",
   "metadata": {},
   "outputs": [],
   "source": []
  }
 ],
 "metadata": {
  "kernelspec": {
   "display_name": "rapids-22.10",
   "language": "python",
   "name": "rapids-22.10"
  },
  "language_info": {
   "codemirror_mode": {
    "name": "ipython",
    "version": 3
   },
   "file_extension": ".py",
   "mimetype": "text/x-python",
   "name": "python",
   "nbconvert_exporter": "python",
   "pygments_lexer": "ipython3",
   "version": "3.9.13"
  }
 },
 "nbformat": 4,
 "nbformat_minor": 5
}
